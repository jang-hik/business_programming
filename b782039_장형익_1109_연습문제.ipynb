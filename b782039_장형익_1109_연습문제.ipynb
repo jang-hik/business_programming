{
 "cells": [
  {
   "cell_type": "code",
   "execution_count": 61,
   "id": "66f3f06e",
   "metadata": {},
   "outputs": [],
   "source": [
    "#문제1"
   ]
  },
  {
   "cell_type": "code",
   "execution_count": 80,
   "id": "f8a8e8bf",
   "metadata": {},
   "outputs": [],
   "source": [
    "with open(\"test.txt\", \"w\") as f:\n",
    "    f.write(\"Life is too short\")\n",
    "    f.write(\"\\n\")"
   ]
  },
  {
   "cell_type": "code",
   "execution_count": 81,
   "id": "6f8d84e2",
   "metadata": {},
   "outputs": [
    {
     "name": "stdout",
     "output_type": "stream",
     "text": [
      "Life is too short\n",
      "\n"
     ]
    }
   ],
   "source": [
    "with open(\"test.txt\", \"r\") as f:\n",
    "    print(f.read())"
   ]
  },
  {
   "cell_type": "code",
   "execution_count": 70,
   "id": "3e39d905",
   "metadata": {},
   "outputs": [],
   "source": [
    "#문제2"
   ]
  },
  {
   "cell_type": "code",
   "execution_count": 82,
   "id": "59ba66f3",
   "metadata": {},
   "outputs": [
    {
     "name": "stdout",
     "output_type": "stream",
     "text": [
      "저장할 내용을 입력하세요:you need java\n"
     ]
    }
   ],
   "source": [
    "with open(\"test.txt\", \"a\") as f:\n",
    "    f.write(input(\"저장할 내용을 입력하세요:\"))\n",
    "    f.write(\"\\n\")"
   ]
  },
  {
   "cell_type": "code",
   "execution_count": 83,
   "id": "b1643df8",
   "metadata": {},
   "outputs": [
    {
     "name": "stdout",
     "output_type": "stream",
     "text": [
      "Life is too short\n",
      "you need java\n",
      "\n"
     ]
    }
   ],
   "source": [
    "with open(\"test.txt\", \"r\") as f:\n",
    "    print(f.read())"
   ]
  },
  {
   "cell_type": "code",
   "execution_count": 1,
   "id": "44c4d46a",
   "metadata": {},
   "outputs": [],
   "source": [
    "#문제3"
   ]
  },
  {
   "cell_type": "code",
   "execution_count": 43,
   "id": "5597a3a6",
   "metadata": {},
   "outputs": [],
   "source": [
    "with open(\"abc.txt\", \"r\") as f:\n",
    "    lines=f.readlines()\n",
    "    lines=lines.reverse()   "
   ]
  },
  {
   "cell_type": "code",
   "execution_count": 44,
   "id": "1f5e4f03",
   "metadata": {},
   "outputs": [
    {
     "name": "stdout",
     "output_type": "stream",
     "text": [
      "['EEE\\n', 'DDD\\n', 'CCC\\n', 'BBB\\n', 'AAA\\n']\n"
     ]
    }
   ],
   "source": [
    "print(lines)"
   ]
  },
  {
   "cell_type": "code",
   "execution_count": 45,
   "id": "67f71324",
   "metadata": {},
   "outputs": [],
   "source": [
    "with open(\"abc.txt\", \"w\") as f:\n",
    "    for i in lines:\n",
    "        f.write(i)"
   ]
  },
  {
   "cell_type": "code",
   "execution_count": 79,
   "id": "47c7e895",
   "metadata": {},
   "outputs": [
    {
     "name": "stdout",
     "output_type": "stream",
     "text": [
      "EEE\n",
      "DDD\n",
      "CCC\n",
      "BBB\n",
      "AAA\n",
      "\n"
     ]
    }
   ],
   "source": [
    "with open(\"abc.txt\", \"r\") as f:\n",
    "    print(f.read())"
   ]
  },
  {
   "cell_type": "code",
   "execution_count": 47,
   "id": "130e6b50",
   "metadata": {},
   "outputs": [],
   "source": [
    "#문제4"
   ]
  },
  {
   "cell_type": "code",
   "execution_count": 51,
   "id": "78f84b60",
   "metadata": {},
   "outputs": [],
   "source": [
    "with open(\"test.txt\", \"r\") as f:\n",
    "    a=f.read()\n",
    "    a=a.replace(\"java\", \"python\")"
   ]
  },
  {
   "cell_type": "code",
   "execution_count": 52,
   "id": "248cbb3e",
   "metadata": {},
   "outputs": [
    {
     "name": "stdout",
     "output_type": "stream",
     "text": [
      "Life is too short\n",
      "you need python\n",
      "\n"
     ]
    }
   ],
   "source": [
    "print(a)"
   ]
  },
  {
   "cell_type": "code",
   "execution_count": 53,
   "id": "16045034",
   "metadata": {},
   "outputs": [],
   "source": [
    "#문제5"
   ]
  },
  {
   "cell_type": "code",
   "execution_count": 86,
   "id": "57cac374",
   "metadata": {},
   "outputs": [
    {
     "name": "stdout",
     "output_type": "stream",
     "text": [
      "790\n",
      "79.0\n"
     ]
    }
   ],
   "source": [
    "with open(\"sample.txt\", \"r\") as f:\n",
    "    total=0\n",
    "    lines=f.readlines()\n",
    "    for i in lines:\n",
    "        total+=int(i)\n",
    "    print(total)\n",
    "    print(total/len(lines))"
   ]
  },
  {
   "cell_type": "code",
   "execution_count": null,
   "id": "22c28de1",
   "metadata": {},
   "outputs": [],
   "source": [
    "#사용자입력 연습문제1"
   ]
  },
  {
   "cell_type": "code",
   "execution_count": 99,
   "id": "3e848b9d",
   "metadata": {},
   "outputs": [
    {
     "name": "stdout",
     "output_type": "stream",
     "text": [
      "첫번째 숫자를 입력하세요:3\n",
      "두번째 숫자를 입력하세요:5\n",
      "두 수의 합은 8입니다.\n"
     ]
    }
   ],
   "source": [
    "input1=input(\"첫번째 숫자를 입력하세요:\")\n",
    "input2=input(\"두번째 숫자를 입력하세요:\")\n",
    "total=int(input1)+int(input2)\n",
    "print(f\"두 수의 합은 {total}입니다.\")"
   ]
  },
  {
   "cell_type": "code",
   "execution_count": 87,
   "id": "235aa567",
   "metadata": {},
   "outputs": [],
   "source": [
    "#사용자입력 연습문제2"
   ]
  },
  {
   "cell_type": "code",
   "execution_count": 92,
   "id": "770cf3b8",
   "metadata": {},
   "outputs": [
    {
     "name": "stdout",
     "output_type": "stream",
     "text": [
      "숫자 여러개를 콤마를 넣어 입력하시오:1,2,3,4,5\n"
     ]
    }
   ],
   "source": [
    "number=input(\"숫자 여러개를 콤마를 넣어 입력하시오:\")\n",
    "numbers=number.split(\",\")                     #string을 split()하면 list가 된다."
   ]
  },
  {
   "cell_type": "code",
   "execution_count": 93,
   "id": "fad39a35",
   "metadata": {},
   "outputs": [
    {
     "name": "stdout",
     "output_type": "stream",
     "text": [
      "1,2,3,4,5 <class 'str'>\n",
      "['1', '2', '3', '4', '5'] <class 'list'>\n"
     ]
    }
   ],
   "source": [
    "print(number, type(number))\n",
    "print(numbers, type(numbers))"
   ]
  },
  {
   "cell_type": "code",
   "execution_count": 94,
   "id": "acc44cfc",
   "metadata": {},
   "outputs": [
    {
     "name": "stdout",
     "output_type": "stream",
     "text": [
      "15\n"
     ]
    }
   ],
   "source": [
    "total=0\n",
    "for i in numbers:\n",
    "    total+=int(i)\n",
    "print(total)"
   ]
  },
  {
   "cell_type": "code",
   "execution_count": 95,
   "id": "33c286ed",
   "metadata": {},
   "outputs": [],
   "source": [
    "#사용자입력 연습문제3"
   ]
  },
  {
   "cell_type": "code",
   "execution_count": 96,
   "id": "ade8b52d",
   "metadata": {},
   "outputs": [],
   "source": [
    "#답은 3번이다."
   ]
  },
  {
   "cell_type": "code",
   "execution_count": 97,
   "id": "c9bbdf09",
   "metadata": {},
   "outputs": [],
   "source": [
    "#사용자입력 연습문제4"
   ]
  },
  {
   "cell_type": "code",
   "execution_count": 98,
   "id": "fb515fd5",
   "metadata": {},
   "outputs": [
    {
     "name": "stdout",
     "output_type": "stream",
     "text": [
      "구구단을 출력할 숫자를 입력하세요(2~9):3\n",
      "3 6 9 12 15 18 21 24 27 "
     ]
    }
   ],
   "source": [
    "num=input(\"구구단을 출력할 숫자를 입력하세요(2~9):\")\n",
    "for i in range(1,10):\n",
    "    print(int(num)*i, end=\" \")"
   ]
  },
  {
   "cell_type": "code",
   "execution_count": null,
   "id": "12029a73",
   "metadata": {},
   "outputs": [],
   "source": []
  }
 ],
 "metadata": {
  "kernelspec": {
   "display_name": "Python 3",
   "language": "python",
   "name": "python3"
  },
  "language_info": {
   "codemirror_mode": {
    "name": "ipython",
    "version": 3
   },
   "file_extension": ".py",
   "mimetype": "text/x-python",
   "name": "python",
   "nbconvert_exporter": "python",
   "pygments_lexer": "ipython3",
   "version": "3.8.8"
  }
 },
 "nbformat": 4,
 "nbformat_minor": 5
}
