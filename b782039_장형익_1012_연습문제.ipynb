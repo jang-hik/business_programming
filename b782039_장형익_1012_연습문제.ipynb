{
 "cells": [
  {
   "cell_type": "code",
   "execution_count": 1,
   "id": "5344c2a5",
   "metadata": {},
   "outputs": [],
   "source": [
    "#Q1\n",
    "a=[1,2,3]\n",
    "b=[1,2,3]"
   ]
  },
  {
   "cell_type": "code",
   "execution_count": 2,
   "id": "e2eb4add",
   "metadata": {},
   "outputs": [
    {
     "data": {
      "text/plain": [
       "False"
      ]
     },
     "execution_count": 2,
     "metadata": {},
     "output_type": "execute_result"
    }
   ],
   "source": [
    "a is b"
   ]
  },
  {
   "cell_type": "code",
   "execution_count": 3,
   "id": "56480b8f",
   "metadata": {},
   "outputs": [
    {
     "data": {
      "text/plain": [
       "'왜냐하면 서로 값만 똑같을 뿐 다른 주소로 할당되었기 때문이다.'"
      ]
     },
     "execution_count": 3,
     "metadata": {},
     "output_type": "execute_result"
    }
   ],
   "source": [
    "\"왜냐하면 서로 값만 똑같을 뿐 다른 주소로 할당되었기 때문이다.\""
   ]
  },
  {
   "cell_type": "code",
   "execution_count": 4,
   "id": "e396ad8b",
   "metadata": {},
   "outputs": [
    {
     "data": {
      "text/plain": [
       "2262242602880"
      ]
     },
     "execution_count": 4,
     "metadata": {},
     "output_type": "execute_result"
    }
   ],
   "source": [
    "id(a)"
   ]
  },
  {
   "cell_type": "code",
   "execution_count": 5,
   "id": "7fef6594",
   "metadata": {},
   "outputs": [
    {
     "data": {
      "text/plain": [
       "2262242381248"
      ]
     },
     "execution_count": 5,
     "metadata": {},
     "output_type": "execute_result"
    }
   ],
   "source": [
    "id(b)"
   ]
  },
  {
   "cell_type": "code",
   "execution_count": 6,
   "id": "970d8c3c",
   "metadata": {},
   "outputs": [],
   "source": [
    "#Q2\n",
    "a=[1,2,3]"
   ]
  },
  {
   "cell_type": "code",
   "execution_count": 7,
   "id": "cceb5e65",
   "metadata": {},
   "outputs": [],
   "source": [
    "b=a"
   ]
  },
  {
   "cell_type": "code",
   "execution_count": 8,
   "id": "8935f3e5",
   "metadata": {},
   "outputs": [
    {
     "data": {
      "text/plain": [
       "True"
      ]
     },
     "execution_count": 8,
     "metadata": {},
     "output_type": "execute_result"
    }
   ],
   "source": [
    "a is b"
   ]
  },
  {
   "cell_type": "code",
   "execution_count": 9,
   "id": "b80d74ab",
   "metadata": {},
   "outputs": [
    {
     "data": {
      "text/plain": [
       "'왜냐하면 a와 b가 똑같은 주소로 할당되었기 때문이다.'"
      ]
     },
     "execution_count": 9,
     "metadata": {},
     "output_type": "execute_result"
    }
   ],
   "source": [
    "\"왜냐하면 a와 b가 똑같은 주소로 할당되었기 때문이다.\""
   ]
  },
  {
   "cell_type": "code",
   "execution_count": 10,
   "id": "49c7d4ba",
   "metadata": {},
   "outputs": [
    {
     "data": {
      "text/plain": [
       "2262242580288"
      ]
     },
     "execution_count": 10,
     "metadata": {},
     "output_type": "execute_result"
    }
   ],
   "source": [
    "id(a)"
   ]
  },
  {
   "cell_type": "code",
   "execution_count": 11,
   "id": "1909cd5c",
   "metadata": {},
   "outputs": [
    {
     "data": {
      "text/plain": [
       "2262242580288"
      ]
     },
     "execution_count": 11,
     "metadata": {},
     "output_type": "execute_result"
    }
   ],
   "source": [
    "id(b)"
   ]
  },
  {
   "cell_type": "code",
   "execution_count": 12,
   "id": "de69825b",
   "metadata": {},
   "outputs": [],
   "source": [
    "#Q3\n",
    "a=b=[1,2,3]"
   ]
  },
  {
   "cell_type": "code",
   "execution_count": 13,
   "id": "0c142419",
   "metadata": {},
   "outputs": [],
   "source": [
    "a[1]=4"
   ]
  },
  {
   "cell_type": "code",
   "execution_count": 14,
   "id": "cdbe1a84",
   "metadata": {},
   "outputs": [
    {
     "name": "stdout",
     "output_type": "stream",
     "text": [
      "[1, 4, 3]\n"
     ]
    }
   ],
   "source": [
    "print(b)"
   ]
  },
  {
   "cell_type": "code",
   "execution_count": 15,
   "id": "3ec1c5ca",
   "metadata": {},
   "outputs": [
    {
     "data": {
      "text/plain": [
       "'왜냐하면 리스트의 값을 수정하면 새로운 값을 덧씌우는게 아니라 기존의\\n주소에 있던 리스트 값을 변경하기 때문이다.'"
      ]
     },
     "execution_count": 15,
     "metadata": {},
     "output_type": "execute_result"
    }
   ],
   "source": [
    "\"\"\"왜냐하면 리스트의 값을 수정하면 새로운 값을 덧씌우는게 아니라 기존의\n",
    "주소에 있던 리스트 값을 변경하기 때문이다.\"\"\""
   ]
  },
  {
   "cell_type": "code",
   "execution_count": 16,
   "id": "8c287826",
   "metadata": {},
   "outputs": [],
   "source": [
    "#Q4\n",
    "a=[1,2,3]\n",
    "b = a[:]"
   ]
  },
  {
   "cell_type": "code",
   "execution_count": 17,
   "id": "dbc90ebd",
   "metadata": {},
   "outputs": [
    {
     "data": {
      "text/plain": [
       "False"
      ]
     },
     "execution_count": 17,
     "metadata": {},
     "output_type": "execute_result"
    }
   ],
   "source": [
    "a is b"
   ]
  },
  {
   "cell_type": "code",
   "execution_count": 18,
   "id": "49bf56f4",
   "metadata": {},
   "outputs": [
    {
     "data": {
      "text/plain": [
       "'왜냐하면 b에 a의 값만 복사한거지 똑같은 주소를 할당한거는 아니기 때문이다.'"
      ]
     },
     "execution_count": 18,
     "metadata": {},
     "output_type": "execute_result"
    }
   ],
   "source": [
    "\"왜냐하면 b에 a의 값만 복사한거지 똑같은 주소를 할당한거는 아니기 때문이다.\""
   ]
  },
  {
   "cell_type": "code",
   "execution_count": 19,
   "id": "4449e89d",
   "metadata": {},
   "outputs": [],
   "source": [
    "#Q5\n",
    "a=[1,2,3]\n",
    "b=a[:]"
   ]
  },
  {
   "cell_type": "code",
   "execution_count": 20,
   "id": "eedbc1f8",
   "metadata": {},
   "outputs": [],
   "source": [
    "a[1]=4"
   ]
  },
  {
   "cell_type": "code",
   "execution_count": 21,
   "id": "7d945243",
   "metadata": {},
   "outputs": [
    {
     "data": {
      "text/plain": [
       "[1, 4, 3]"
      ]
     },
     "execution_count": 21,
     "metadata": {},
     "output_type": "execute_result"
    }
   ],
   "source": [
    "a"
   ]
  },
  {
   "cell_type": "code",
   "execution_count": 22,
   "id": "641c4ee6",
   "metadata": {},
   "outputs": [
    {
     "name": "stdout",
     "output_type": "stream",
     "text": [
      "[1, 2, 3]\n"
     ]
    }
   ],
   "source": [
    "print(b)"
   ]
  },
  {
   "cell_type": "code",
   "execution_count": 23,
   "id": "fec60b1c",
   "metadata": {},
   "outputs": [
    {
     "data": {
      "text/plain": [
       "'b는 a의 값만 복사한거지 똑같은 주소를 할당한게 아니기 때문에 a의 리스트를 \\n수정해도 b의 값은 변하지 않는다.'"
      ]
     },
     "execution_count": 23,
     "metadata": {},
     "output_type": "execute_result"
    }
   ],
   "source": [
    "\"\"\"b는 a의 값만 복사한거지 똑같은 주소를 할당한게 아니기 때문에 a의 리스트를 \n",
    "수정해도 b의 값은 변하지 않는다.\"\"\""
   ]
  },
  {
   "cell_type": "code",
   "execution_count": 24,
   "id": "d28ee11b",
   "metadata": {},
   "outputs": [],
   "source": [
    "#Q6"
   ]
  },
  {
   "cell_type": "code",
   "execution_count": 25,
   "id": "0e5dae61",
   "metadata": {},
   "outputs": [
    {
     "data": {
      "text/plain": [
       "'덧셈기호는 리스트끼리 합해준거고 extend는 리스트를 확장시킨거다.'"
      ]
     },
     "execution_count": 25,
     "metadata": {},
     "output_type": "execute_result"
    }
   ],
   "source": [
    "\"덧셈기호는 리스트끼리 합해준거고 extend는 리스트를 확장시킨거다.\""
   ]
  },
  {
   "cell_type": "markdown",
   "id": "65c7743f",
   "metadata": {},
   "source": [
    "#---------------------------------"
   ]
  },
  {
   "cell_type": "code",
   "execution_count": 26,
   "id": "f9950c82",
   "metadata": {},
   "outputs": [],
   "source": [
    "#Q1\n",
    "money = 5000\n",
    "card = False"
   ]
  },
  {
   "cell_type": "code",
   "execution_count": 27,
   "id": "3c9ad5d3",
   "metadata": {},
   "outputs": [
    {
     "name": "stdout",
     "output_type": "stream",
     "text": [
      "택시를 타고 간다\n"
     ]
    }
   ],
   "source": [
    "if money >= 4000 or card:\n",
    "    print(\"택시를 타고 간다\")\n",
    "else:\n",
    "    print(\"걸어가라\")"
   ]
  },
  {
   "cell_type": "code",
   "execution_count": 28,
   "id": "1a79ea43",
   "metadata": {},
   "outputs": [],
   "source": [
    "#Q2\n",
    "lucky_list = [1,9,23,46]"
   ]
  },
  {
   "cell_type": "code",
   "execution_count": 29,
   "id": "589ed4da",
   "metadata": {},
   "outputs": [
    {
     "name": "stdout",
     "output_type": "stream",
     "text": [
      "야호\n"
     ]
    }
   ],
   "source": [
    "if 23 in lucky_list:\n",
    "    print(\"야호\")"
   ]
  },
  {
   "cell_type": "code",
   "execution_count": 30,
   "id": "fd5f3761",
   "metadata": {},
   "outputs": [
    {
     "name": "stdout",
     "output_type": "stream",
     "text": [
      "4\n",
      "4 짝수\n"
     ]
    }
   ],
   "source": [
    "#Q3 \n",
    "number = int(input())\n",
    "if number%2 == 0:\n",
    "    print(number, \"짝수\")\n",
    "else:\n",
    "    print(\"홀수\")"
   ]
  },
  {
   "cell_type": "code",
   "execution_count": 31,
   "id": "081ee5a2",
   "metadata": {},
   "outputs": [],
   "source": [
    "#Q4\n",
    "age=30 \n",
    "h=180"
   ]
  },
  {
   "cell_type": "code",
   "execution_count": 32,
   "id": "1fba7c89",
   "metadata": {},
   "outputs": [
    {
     "name": "stdout",
     "output_type": "stream",
     "text": [
      "NO\n"
     ]
    }
   ],
   "source": [
    "if age < 30 and h >= 175:\n",
    "    print(\"yes\")\n",
    "else:\n",
    "    print(\"NO\")"
   ]
  },
  {
   "cell_type": "code",
   "execution_count": 33,
   "id": "fcb31f42",
   "metadata": {},
   "outputs": [],
   "source": [
    "#Q5\n",
    "a = \"life is too short, you need python\""
   ]
  },
  {
   "cell_type": "code",
   "execution_count": 35,
   "id": "2c30d6b2",
   "metadata": {},
   "outputs": [
    {
     "name": "stdout",
     "output_type": "stream",
     "text": [
      "shirt\n"
     ]
    }
   ],
   "source": [
    "if 'wife' in a:\n",
    "    print('wife')\n",
    "elif 'python' in a and 'you' not in a:\n",
    "    print('python')\n",
    "elif 'shirt' not in a:\n",
    "    print('shirt')"
   ]
  },
  {
   "cell_type": "code",
   "execution_count": null,
   "id": "1211ec6f",
   "metadata": {},
   "outputs": [],
   "source": []
  }
 ],
 "metadata": {
  "kernelspec": {
   "display_name": "Python 3",
   "language": "python",
   "name": "python3"
  },
  "language_info": {
   "codemirror_mode": {
    "name": "ipython",
    "version": 3
   },
   "file_extension": ".py",
   "mimetype": "text/x-python",
   "name": "python",
   "nbconvert_exporter": "python",
   "pygments_lexer": "ipython3",
   "version": "3.8.8"
  }
 },
 "nbformat": 4,
 "nbformat_minor": 5
}
