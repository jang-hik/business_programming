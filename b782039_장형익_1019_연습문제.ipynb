{
 "cells": [
  {
   "cell_type": "code",
   "execution_count": 7,
   "id": "f2f84cf3",
   "metadata": {},
   "outputs": [],
   "source": [
    "#Q1"
   ]
  },
  {
   "cell_type": "code",
   "execution_count": 74,
   "id": "4e00950e",
   "metadata": {},
   "outputs": [],
   "source": [
    "i = 1\n",
    "result = 0"
   ]
  },
  {
   "cell_type": "code",
   "execution_count": 75,
   "id": "3712e719",
   "metadata": {},
   "outputs": [],
   "source": [
    "while i < 101:\n",
    "    result += i\n",
    "    i += 1"
   ]
  },
  {
   "cell_type": "code",
   "execution_count": 76,
   "id": "8df81b88",
   "metadata": {},
   "outputs": [
    {
     "name": "stdout",
     "output_type": "stream",
     "text": [
      "5050\n"
     ]
    }
   ],
   "source": [
    "print(result)"
   ]
  },
  {
   "cell_type": "code",
   "execution_count": 19,
   "id": "dea864c8",
   "metadata": {},
   "outputs": [],
   "source": [
    "#Q2"
   ]
  },
  {
   "cell_type": "code",
   "execution_count": 20,
   "id": "dd8885c0",
   "metadata": {},
   "outputs": [],
   "source": [
    "i = 1\n",
    "result = 0"
   ]
  },
  {
   "cell_type": "code",
   "execution_count": 21,
   "id": "e5d5c8bd",
   "metadata": {},
   "outputs": [],
   "source": [
    "while i < 1001:\n",
    "    if i%3 ==0:\n",
    "        result += i\n",
    "    i += 1"
   ]
  },
  {
   "cell_type": "code",
   "execution_count": 22,
   "id": "abc00702",
   "metadata": {},
   "outputs": [
    {
     "name": "stdout",
     "output_type": "stream",
     "text": [
      "166833\n"
     ]
    }
   ],
   "source": [
    "print(result)"
   ]
  },
  {
   "cell_type": "code",
   "execution_count": 41,
   "id": "df01f41b",
   "metadata": {},
   "outputs": [],
   "source": [
    "#Q3"
   ]
  },
  {
   "cell_type": "code",
   "execution_count": 66,
   "id": "ba1cbc6c",
   "metadata": {},
   "outputs": [],
   "source": [
    "A=[20, 55, 67, 82, 45, 33, 90, 87, 100, 25]"
   ]
  },
  {
   "cell_type": "code",
   "execution_count": 67,
   "id": "2bbdfb68",
   "metadata": {},
   "outputs": [],
   "source": [
    "i = 0\n",
    "b = 0"
   ]
  },
  {
   "cell_type": "code",
   "execution_count": 71,
   "id": "99fd3d00",
   "metadata": {},
   "outputs": [
    {
     "name": "stdout",
     "output_type": "stream",
     "text": [
      "481\n"
     ]
    }
   ],
   "source": [
    "while i <= 9:\n",
    "    if A[i] > 50:\n",
    "        b += A[i]\n",
    "    i += 1\n",
    "print(b)"
   ]
  },
  {
   "cell_type": "code",
   "execution_count": 27,
   "id": "996aadb6",
   "metadata": {},
   "outputs": [],
   "source": [
    "#Q4"
   ]
  },
  {
   "cell_type": "code",
   "execution_count": 28,
   "id": "43fde3d4",
   "metadata": {},
   "outputs": [
    {
     "name": "stdout",
     "output_type": "stream",
     "text": [
      "*\n",
      "**\n",
      "***\n",
      "****\n",
      "*****\n"
     ]
    }
   ],
   "source": [
    "i = 0\n",
    "while i < 5:\n",
    "    i += 1\n",
    "    print(\"*\"*i)"
   ]
  },
  {
   "cell_type": "code",
   "execution_count": 29,
   "id": "2c65db6b",
   "metadata": {},
   "outputs": [],
   "source": [
    "#Q5"
   ]
  },
  {
   "cell_type": "code",
   "execution_count": 33,
   "id": "b6877e06",
   "metadata": {},
   "outputs": [
    {
     "name": "stdout",
     "output_type": "stream",
     "text": [
      "*******\n",
      " ***** \n",
      "  ***  \n",
      "   *   \n",
      "       \n"
     ]
    }
   ],
   "source": [
    "i = 9\n",
    "while i>0:\n",
    "    i -= 2\n",
    "    print(\"{0:^7}\".format(\"*\"*i))"
   ]
  },
  {
   "cell_type": "code",
   "execution_count": null,
   "id": "a7f6824d",
   "metadata": {},
   "outputs": [],
   "source": []
  }
 ],
 "metadata": {
  "kernelspec": {
   "display_name": "Python 3",
   "language": "python",
   "name": "python3"
  },
  "language_info": {
   "codemirror_mode": {
    "name": "ipython",
    "version": 3
   },
   "file_extension": ".py",
   "mimetype": "text/x-python",
   "name": "python",
   "nbconvert_exporter": "python",
   "pygments_lexer": "ipython3",
   "version": "3.8.8"
  }
 },
 "nbformat": 4,
 "nbformat_minor": 5
}
