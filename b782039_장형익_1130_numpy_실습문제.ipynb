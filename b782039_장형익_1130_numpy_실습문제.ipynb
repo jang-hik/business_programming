{
 "cells": [
  {
   "cell_type": "code",
   "execution_count": 3,
   "id": "aebcbd8b",
   "metadata": {},
   "outputs": [],
   "source": [
    "import numpy as np"
   ]
  },
  {
   "cell_type": "code",
   "execution_count": 4,
   "id": "0dbac9ce",
   "metadata": {},
   "outputs": [],
   "source": [
    "# B15. 30부터 70까지 짝수로 이루어진 array를 만드시오 "
   ]
  },
  {
   "cell_type": "code",
   "execution_count": 5,
   "id": "0fe3bf07",
   "metadata": {},
   "outputs": [
    {
     "data": {
      "text/plain": [
       "array([30, 32, 34, 36, 38, 40, 42, 44, 46, 48, 50, 52, 54, 56, 58, 60, 62,\n",
       "       64, 66, 68, 70])"
      ]
     },
     "execution_count": 5,
     "metadata": {},
     "output_type": "execute_result"
    }
   ],
   "source": [
    "np.arange(30, 71, 2)"
   ]
  },
  {
   "cell_type": "code",
   "execution_count": 6,
   "id": "138e4700",
   "metadata": {},
   "outputs": [],
   "source": [
    "# B13. 10개의 zero, 10개의 one, 10개의 5로 만들어진 array를 각각 만드시오"
   ]
  },
  {
   "cell_type": "code",
   "execution_count": 9,
   "id": "02ebe694",
   "metadata": {},
   "outputs": [
    {
     "data": {
      "text/plain": [
       "array([0, 0, 0, 0, 0, 0, 0, 0, 0, 0])"
      ]
     },
     "execution_count": 9,
     "metadata": {},
     "output_type": "execute_result"
    }
   ],
   "source": [
    "np.zeros((10,), int)"
   ]
  },
  {
   "cell_type": "code",
   "execution_count": 10,
   "id": "69ed2ee5",
   "metadata": {},
   "outputs": [
    {
     "data": {
      "text/plain": [
       "array([1, 1, 1, 1, 1, 1, 1, 1, 1, 1])"
      ]
     },
     "execution_count": 10,
     "metadata": {},
     "output_type": "execute_result"
    }
   ],
   "source": [
    "np.ones((10,), int)"
   ]
  },
  {
   "cell_type": "code",
   "execution_count": 12,
   "id": "87f77171",
   "metadata": {},
   "outputs": [
    {
     "data": {
      "text/plain": [
       "array([5, 5, 5, 5, 5, 5, 5, 5, 5, 5])"
      ]
     },
     "execution_count": 12,
     "metadata": {},
     "output_type": "execute_result"
    }
   ],
   "source": [
    "np.full((10,), 5)"
   ]
  },
  {
   "cell_type": "code",
   "execution_count": 13,
   "id": "5b992ae7",
   "metadata": {},
   "outputs": [],
   "source": [
    "# B19. 15부터 55까지 수로 구성된 array에서 첫 요소와 마지막 요소를 제외하고 모두 print하는 코드를 작성하시오"
   ]
  },
  {
   "cell_type": "code",
   "execution_count": 15,
   "id": "073b8ffe",
   "metadata": {},
   "outputs": [
    {
     "name": "stdout",
     "output_type": "stream",
     "text": [
      "[16 17 18 19 20 21 22 23 24 25 26 27 28 29 30 31 32 33 34 35 36 37 38 39\n",
      " 40 41 42 43 44 45 46 47 48 49 50 51 52 53 54]\n"
     ]
    }
   ],
   "source": [
    "a=np.arange(15,56)\n",
    "print(a[1:-1])"
   ]
  },
  {
   "cell_type": "code",
   "execution_count": 16,
   "id": "d2f27a38",
   "metadata": {},
   "outputs": [],
   "source": [
    "# B20. 10부터 21까지 정수로 구성되는  3x4 array를 만드시오."
   ]
  },
  {
   "cell_type": "code",
   "execution_count": 17,
   "id": "32b1f317",
   "metadata": {},
   "outputs": [
    {
     "data": {
      "text/plain": [
       "array([[10, 11, 12, 13],\n",
       "       [14, 15, 16, 17],\n",
       "       [18, 19, 20, 21]])"
      ]
     },
     "execution_count": 17,
     "metadata": {},
     "output_type": "execute_result"
    }
   ],
   "source": [
    "np.arange(10,22).reshape(3,4)"
   ]
  },
  {
   "cell_type": "code",
   "execution_count": 18,
   "id": "85ce38d0",
   "metadata": {},
   "outputs": [],
   "source": [
    "# B21. 5부터 50까지 10개의 요소를 등간격으로 구성하는 array를 만드시오 "
   ]
  },
  {
   "cell_type": "code",
   "execution_count": 19,
   "id": "ad1453bb",
   "metadata": {},
   "outputs": [
    {
     "data": {
      "text/plain": [
       "array([ 5., 10., 15., 20., 25., 30., 35., 40., 45., 50.])"
      ]
     },
     "execution_count": 19,
     "metadata": {},
     "output_type": "execute_result"
    }
   ],
   "source": [
    "np.linspace(5,50,10)"
   ]
  },
  {
   "cell_type": "code",
   "execution_count": 20,
   "id": "16098256",
   "metadata": {},
   "outputs": [],
   "source": [
    "# B22. 0-20까지 값을 가지는 array에서 9부터 15까지의 요소를 음수로 바꾸시오 "
   ]
  },
  {
   "cell_type": "code",
   "execution_count": 4,
   "id": "a222a553",
   "metadata": {},
   "outputs": [],
   "source": [
    "a=np.arange(0,21)"
   ]
  },
  {
   "cell_type": "code",
   "execution_count": 5,
   "id": "0df86174",
   "metadata": {},
   "outputs": [
    {
     "data": {
      "text/plain": [
       "array([ 0,  1,  2,  3,  4,  5,  6,  7,  8,  9, 10, 11, 12, 13, 14, 15, 16,\n",
       "       17, 18, 19, 20])"
      ]
     },
     "execution_count": 5,
     "metadata": {},
     "output_type": "execute_result"
    }
   ],
   "source": [
    "a"
   ]
  },
  {
   "cell_type": "code",
   "execution_count": 6,
   "id": "384b27d1",
   "metadata": {},
   "outputs": [],
   "source": [
    "a[9:16]*=-1"
   ]
  },
  {
   "cell_type": "code",
   "execution_count": 7,
   "id": "b3a7f4a8",
   "metadata": {},
   "outputs": [
    {
     "data": {
      "text/plain": [
       "array([  0,   1,   2,   3,   4,   5,   6,   7,   8,  -9, -10, -11, -12,\n",
       "       -13, -14, -15,  16,  17,  18,  19,  20])"
      ]
     },
     "execution_count": 7,
     "metadata": {},
     "output_type": "execute_result"
    }
   ],
   "source": [
    "a"
   ]
  },
  {
   "cell_type": "code",
   "execution_count": 9,
   "id": "f3cc4b33",
   "metadata": {},
   "outputs": [],
   "source": [
    "a[(a>=9) & (a<=15)] *= -1"
   ]
  },
  {
   "cell_type": "code",
   "execution_count": 10,
   "id": "5ed43ff3",
   "metadata": {},
   "outputs": [
    {
     "data": {
      "text/plain": [
       "array([  0,   1,   2,   3,   4,   5,   6,   7,   8,  -9, -10, -11, -12,\n",
       "       -13, -14, -15,  16,  17,  18,  19,  20])"
      ]
     },
     "execution_count": 10,
     "metadata": {},
     "output_type": "execute_result"
    }
   ],
   "source": [
    "a"
   ]
  },
  {
   "cell_type": "code",
   "execution_count": 33,
   "id": "c25d25d8",
   "metadata": {},
   "outputs": [],
   "source": [
    "# B23. 임의의 수로 이루어진 3x4 array를 생성하시오 "
   ]
  },
  {
   "cell_type": "code",
   "execution_count": 34,
   "id": "1c6fee09",
   "metadata": {},
   "outputs": [
    {
     "data": {
      "text/plain": [
       "array([[0.90793236, 0.85733275, 0.89944897, 0.7631485 ],\n",
       "       [0.734717  , 0.33015013, 0.73615329, 0.45541908],\n",
       "       [0.60777529, 0.87585508, 0.45447526, 0.08150006]])"
      ]
     },
     "execution_count": 34,
     "metadata": {},
     "output_type": "execute_result"
    }
   ],
   "source": [
    "np.random.random((3,4))"
   ]
  },
  {
   "cell_type": "code",
   "execution_count": 35,
   "id": "77dacc81",
   "metadata": {},
   "outputs": [],
   "source": [
    "# B24.(random.randint()) 0~100 중 임의의 integer 12개로 이루어진 3x4 array를 생성하시오 "
   ]
  },
  {
   "cell_type": "code",
   "execution_count": 36,
   "id": "241f7955",
   "metadata": {},
   "outputs": [
    {
     "data": {
      "text/plain": [
       "array([[90, 72, 20, 21],\n",
       "       [87, 15, 76, 87],\n",
       "       [51, 10, 88, 79]])"
      ]
     },
     "execution_count": 36,
     "metadata": {},
     "output_type": "execute_result"
    }
   ],
   "source": [
    "np.random.randint(0,100, size=(3,4))"
   ]
  },
  {
   "cell_type": "code",
   "execution_count": 37,
   "id": "78c0596e",
   "metadata": {},
   "outputs": [],
   "source": [
    "# B28. 10x10 array를 만들어 가운데는 zero 가장자리는 1로 채우시오 "
   ]
  },
  {
   "cell_type": "code",
   "execution_count": 48,
   "id": "128075bc",
   "metadata": {},
   "outputs": [],
   "source": [
    "a=np.ones((10,10), int)"
   ]
  },
  {
   "cell_type": "code",
   "execution_count": 49,
   "id": "85989cb9",
   "metadata": {},
   "outputs": [
    {
     "data": {
      "text/plain": [
       "array([[1, 1, 1, 1, 1, 1, 1, 1, 1, 1],\n",
       "       [1, 1, 1, 1, 1, 1, 1, 1, 1, 1],\n",
       "       [1, 1, 1, 1, 1, 1, 1, 1, 1, 1],\n",
       "       [1, 1, 1, 1, 1, 1, 1, 1, 1, 1],\n",
       "       [1, 1, 1, 1, 1, 1, 1, 1, 1, 1],\n",
       "       [1, 1, 1, 1, 1, 1, 1, 1, 1, 1],\n",
       "       [1, 1, 1, 1, 1, 1, 1, 1, 1, 1],\n",
       "       [1, 1, 1, 1, 1, 1, 1, 1, 1, 1],\n",
       "       [1, 1, 1, 1, 1, 1, 1, 1, 1, 1],\n",
       "       [1, 1, 1, 1, 1, 1, 1, 1, 1, 1]])"
      ]
     },
     "execution_count": 49,
     "metadata": {},
     "output_type": "execute_result"
    }
   ],
   "source": [
    "a"
   ]
  },
  {
   "cell_type": "code",
   "execution_count": 50,
   "id": "612c9feb",
   "metadata": {},
   "outputs": [],
   "source": [
    "a[1:9,1:9]*=0"
   ]
  },
  {
   "cell_type": "code",
   "execution_count": 51,
   "id": "fff730b5",
   "metadata": {},
   "outputs": [
    {
     "data": {
      "text/plain": [
       "array([[1, 1, 1, 1, 1, 1, 1, 1, 1, 1],\n",
       "       [1, 0, 0, 0, 0, 0, 0, 0, 0, 1],\n",
       "       [1, 0, 0, 0, 0, 0, 0, 0, 0, 1],\n",
       "       [1, 0, 0, 0, 0, 0, 0, 0, 0, 1],\n",
       "       [1, 0, 0, 0, 0, 0, 0, 0, 0, 1],\n",
       "       [1, 0, 0, 0, 0, 0, 0, 0, 0, 1],\n",
       "       [1, 0, 0, 0, 0, 0, 0, 0, 0, 1],\n",
       "       [1, 0, 0, 0, 0, 0, 0, 0, 0, 1],\n",
       "       [1, 0, 0, 0, 0, 0, 0, 0, 0, 1],\n",
       "       [1, 1, 1, 1, 1, 1, 1, 1, 1, 1]])"
      ]
     },
     "execution_count": 51,
     "metadata": {},
     "output_type": "execute_result"
    }
   ],
   "source": [
    "a"
   ]
  },
  {
   "cell_type": "code",
   "execution_count": 52,
   "id": "74edf35d",
   "metadata": {},
   "outputs": [],
   "source": [
    "# A90. 주어진 array에서 음수를 zero로 바꾸시오 "
   ]
  },
  {
   "cell_type": "code",
   "execution_count": 53,
   "id": "53a6b502",
   "metadata": {},
   "outputs": [],
   "source": [
    "x = np.array([-1, -4, 0, 2, 3, 4, 5, -6])"
   ]
  },
  {
   "cell_type": "code",
   "execution_count": 58,
   "id": "d6ae2a19",
   "metadata": {},
   "outputs": [],
   "source": [
    "x[x<0]*=0"
   ]
  },
  {
   "cell_type": "code",
   "execution_count": 59,
   "id": "99888be5",
   "metadata": {},
   "outputs": [
    {
     "data": {
      "text/plain": [
       "array([0, 0, 0, 2, 3, 4, 5, 0])"
      ]
     },
     "execution_count": 59,
     "metadata": {},
     "output_type": "execute_result"
    }
   ],
   "source": [
    "x"
   ]
  },
  {
   "cell_type": "code",
   "execution_count": 60,
   "id": "8ddf5b5f",
   "metadata": {},
   "outputs": [],
   "source": [
    "# A88. 6x6 random array를 만들어 .5보다 큰 요소는 값을 0.5로 바꾸시오."
   ]
  },
  {
   "cell_type": "code",
   "execution_count": 64,
   "id": "d230a19d",
   "metadata": {},
   "outputs": [],
   "source": [
    "f=np.random.random((6,6))"
   ]
  },
  {
   "cell_type": "code",
   "execution_count": 65,
   "id": "deb9009f",
   "metadata": {},
   "outputs": [
    {
     "data": {
      "text/plain": [
       "array([[0.08530755, 0.93935794, 0.59605854, 0.02914803, 0.20543958,\n",
       "        0.74432635],\n",
       "       [0.97862908, 0.07956713, 0.80374272, 0.48036057, 0.51601703,\n",
       "        0.8094398 ],\n",
       "       [0.85539332, 0.34082589, 0.82352887, 0.73963801, 0.13795754,\n",
       "        0.2385465 ],\n",
       "       [0.42692559, 0.84705549, 0.24546437, 0.00314637, 0.86330073,\n",
       "        0.68126038],\n",
       "       [0.3783499 , 0.16793881, 0.24023319, 0.49930409, 0.42040556,\n",
       "        0.50664404],\n",
       "       [0.24525685, 0.67092914, 0.49182304, 0.1425491 , 0.75076079,\n",
       "        0.17515771]])"
      ]
     },
     "execution_count": 65,
     "metadata": {},
     "output_type": "execute_result"
    }
   ],
   "source": [
    "f"
   ]
  },
  {
   "cell_type": "code",
   "execution_count": 67,
   "id": "5a31edef",
   "metadata": {},
   "outputs": [],
   "source": [
    "f[f>0.5]=0.5"
   ]
  },
  {
   "cell_type": "code",
   "execution_count": 68,
   "id": "24ea673a",
   "metadata": {},
   "outputs": [
    {
     "data": {
      "text/plain": [
       "array([[0.08530755, 0.5       , 0.5       , 0.02914803, 0.20543958,\n",
       "        0.5       ],\n",
       "       [0.5       , 0.07956713, 0.5       , 0.48036057, 0.5       ,\n",
       "        0.5       ],\n",
       "       [0.5       , 0.34082589, 0.5       , 0.5       , 0.13795754,\n",
       "        0.2385465 ],\n",
       "       [0.42692559, 0.5       , 0.24546437, 0.00314637, 0.5       ,\n",
       "        0.5       ],\n",
       "       [0.3783499 , 0.16793881, 0.24023319, 0.49930409, 0.42040556,\n",
       "        0.5       ],\n",
       "       [0.24525685, 0.5       , 0.49182304, 0.1425491 , 0.5       ,\n",
       "        0.17515771]])"
      ]
     },
     "execution_count": 68,
     "metadata": {},
     "output_type": "execute_result"
    }
   ],
   "source": [
    "f"
   ]
  },
  {
   "cell_type": "code",
   "execution_count": null,
   "id": "9d31dc8b",
   "metadata": {},
   "outputs": [],
   "source": []
  }
 ],
 "metadata": {
  "kernelspec": {
   "display_name": "Python 3",
   "language": "python",
   "name": "python3"
  },
  "language_info": {
   "codemirror_mode": {
    "name": "ipython",
    "version": 3
   },
   "file_extension": ".py",
   "mimetype": "text/x-python",
   "name": "python",
   "nbconvert_exporter": "python",
   "pygments_lexer": "ipython3",
   "version": "3.8.8"
  }
 },
 "nbformat": 4,
 "nbformat_minor": 5
}
