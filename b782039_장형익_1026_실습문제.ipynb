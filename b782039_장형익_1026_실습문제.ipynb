{
 "cells": [
  {
   "cell_type": "code",
   "execution_count": 8,
   "id": "2912d753",
   "metadata": {},
   "outputs": [],
   "source": [
    "#문제48"
   ]
  },
  {
   "cell_type": "code",
   "execution_count": 3,
   "id": "453a2252",
   "metadata": {},
   "outputs": [],
   "source": [
    "room = \"bed\"\n",
    "area = 12.0"
   ]
  },
  {
   "cell_type": "code",
   "execution_count": 4,
   "id": "97ef657e",
   "metadata": {},
   "outputs": [
    {
     "name": "stdout",
     "output_type": "stream",
     "text": [
      "looking around in the bedroom.\n"
     ]
    }
   ],
   "source": [
    "if room==\"kit\":\n",
    "    print(\"Looking around in the kitchen.\")\n",
    "elif room==\"bed\":\n",
    "    print(\"looking around in the bedroom.\") \n",
    "else:\n",
    "    print(\"looking around elsewhere.\")"
   ]
  },
  {
   "cell_type": "code",
   "execution_count": 5,
   "id": "8dec1de3",
   "metadata": {},
   "outputs": [
    {
     "name": "stdout",
     "output_type": "stream",
     "text": [
      "medium size, nice!\n"
     ]
    }
   ],
   "source": [
    "if area>15:\n",
    "    print(\"big place!\")\n",
    "elif area>10:\n",
    "    print(\"medium size, nice!\")\n",
    "else:\n",
    "    print(\"pretty small.\")"
   ]
  },
  {
   "cell_type": "code",
   "execution_count": null,
   "id": "c55f07bf",
   "metadata": {},
   "outputs": [],
   "source": [
    "if area > 15:\n",
    "    print(\"big place!\")\n",
    "elif area > 10:\n",
    "    print(\"meduem size, nice!\")\n",
    "else:\n",
    "    print(\"big place!\")"
   ]
  },
  {
   "cell_type": "code",
   "execution_count": 11,
   "id": "bd7ff85d",
   "metadata": {},
   "outputs": [],
   "source": [
    "#문제50"
   ]
  },
  {
   "cell_type": "code",
   "execution_count": 12,
   "id": "7a4f5a26",
   "metadata": {},
   "outputs": [],
   "source": [
    "house = [[\"hallway\", 11.25], \n",
    "         [\"kitchen\", 18.0], \n",
    "         [\"living room\", 20.0], \n",
    "         [\"bedroom\", 10.75], \n",
    "         [\"bathroom\", 9.50]]"
   ]
  },
  {
   "cell_type": "code",
   "execution_count": 14,
   "id": "66f1f7c2",
   "metadata": {},
   "outputs": [
    {
     "name": "stdout",
     "output_type": "stream",
     "text": [
      "the hallway is 11.25 sqm\n",
      "the kitchen is 18.0 sqm\n",
      "the living room is 20.0 sqm\n",
      "the bedroom is 10.75 sqm\n",
      "the bathroom is 9.5 sqm\n"
     ]
    }
   ],
   "source": [
    "for x, y in house:\n",
    "    print(f\"the {x} is {y} sqm\")    "
   ]
  },
  {
   "cell_type": "code",
   "execution_count": 15,
   "id": "c2aed393",
   "metadata": {},
   "outputs": [],
   "source": [
    "#문제51"
   ]
  },
  {
   "cell_type": "code",
   "execution_count": 16,
   "id": "1d96cc4e",
   "metadata": {},
   "outputs": [],
   "source": [
    "lst=[3,2,1,0]"
   ]
  },
  {
   "cell_type": "code",
   "execution_count": 17,
   "id": "7cacf187",
   "metadata": {},
   "outputs": [
    {
     "name": "stdout",
     "output_type": "stream",
     "text": [
      "3\n",
      "2\n",
      "1\n",
      "0\n"
     ]
    }
   ],
   "source": [
    "for i in lst:\n",
    "    print(i)"
   ]
  },
  {
   "cell_type": "code",
   "execution_count": 18,
   "id": "2aaa5354",
   "metadata": {},
   "outputs": [],
   "source": [
    "#문제52"
   ]
  },
  {
   "cell_type": "code",
   "execution_count": 19,
   "id": "d146c566",
   "metadata": {},
   "outputs": [
    {
     "name": "stdout",
     "output_type": "stream",
     "text": [
      "95\n",
      "A\n"
     ]
    }
   ],
   "source": [
    "a=int(input())\n",
    "if a>=90:\n",
    "    print(\"A\")\n",
    "elif a>=80:\n",
    "    print(\"B\")\n",
    "elif a>=70:\n",
    "    print(\"C\")\n",
    "elif a>=60:\n",
    "    print(\"D\")\n",
    "else:\n",
    "    print(\"F\")  "
   ]
  },
  {
   "cell_type": "code",
   "execution_count": 20,
   "id": "038f8f86",
   "metadata": {},
   "outputs": [],
   "source": [
    "#문제53"
   ]
  },
  {
   "cell_type": "code",
   "execution_count": 27,
   "id": "156a6886",
   "metadata": {},
   "outputs": [
    {
     "name": "stdout",
     "output_type": "stream",
     "text": [
      "-- 1 ---\n",
      "1 * 1 = 1\n",
      "1 * 2 = 2\n",
      "1 * 3 = 3\n",
      "1 * 4 = 4\n",
      "1 * 5 = 5\n",
      "1 * 6 = 6\n",
      "1 * 7 = 7\n",
      "1 * 8 = 8\n",
      "1 * 9 = 9\n",
      "-- 2 ---\n",
      "2 * 1 = 2\n",
      "2 * 2 = 4\n",
      "2 * 3 = 6\n",
      "2 * 4 = 8\n",
      "2 * 5 = 10\n",
      "2 * 6 = 12\n",
      "2 * 7 = 14\n",
      "2 * 8 = 16\n",
      "2 * 9 = 18\n"
     ]
    }
   ],
   "source": [
    "print(\"-- 1 ---\")\n",
    "for a in range(1,10):\n",
    "    b=a*1\n",
    "    print(f\"1 * {a} = {b}\")\n",
    "print(\"-- 2 ---\")\n",
    "for a in range(1,10):\n",
    "    b=a*2\n",
    "    print(f\"2 * {a} = {b}\")"
   ]
  },
  {
   "cell_type": "code",
   "execution_count": 7,
   "id": "7e0213b7",
   "metadata": {},
   "outputs": [],
   "source": [
    "#문제 53 교수님 풀이"
   ]
  },
  {
   "cell_type": "code",
   "execution_count": 5,
   "id": "3bd9996e",
   "metadata": {},
   "outputs": [
    {
     "name": "stdout",
     "output_type": "stream",
     "text": [
      "--1 ---\n",
      "1*1 = 1\n",
      "1*2 = 2\n",
      "1*3 = 3\n",
      "1*4 = 4\n",
      "1*5 = 5\n",
      "1*6 = 6\n",
      "1*7 = 7\n",
      "1*8 = 8\n",
      "1*9 = 9\n",
      "--2 ---\n",
      "2*1 = 2\n",
      "2*2 = 4\n",
      "2*3 = 6\n",
      "2*4 = 8\n",
      "2*5 = 10\n",
      "2*6 = 12\n",
      "2*7 = 14\n",
      "2*8 = 16\n",
      "2*9 = 18\n"
     ]
    }
   ],
   "source": [
    "n=2\n",
    "k=0\n",
    "for i in range(n):\n",
    "    i+=1\n",
    "    print('--%d ---' %i)\n",
    "    for k in range(9):\n",
    "        k += 1\n",
    "        print(\"%d*%d = %d\" %(i, k, i*k))"
   ]
  },
  {
   "cell_type": "code",
   "execution_count": null,
   "id": "82d1c707",
   "metadata": {},
   "outputs": [],
   "source": []
  }
 ],
 "metadata": {
  "kernelspec": {
   "display_name": "Python 3",
   "language": "python",
   "name": "python3"
  },
  "language_info": {
   "codemirror_mode": {
    "name": "ipython",
    "version": 3
   },
   "file_extension": ".py",
   "mimetype": "text/x-python",
   "name": "python",
   "nbconvert_exporter": "python",
   "pygments_lexer": "ipython3",
   "version": "3.8.8"
  }
 },
 "nbformat": 4,
 "nbformat_minor": 5
}
