{
 "cells": [
  {
   "cell_type": "code",
   "execution_count": 1,
   "id": "190a6ae4",
   "metadata": {},
   "outputs": [],
   "source": [
    "#Q1\n",
    "a = ['life', 'is', 'too', 'short', 'you', 'need', 'python']"
   ]
  },
  {
   "cell_type": "code",
   "execution_count": 2,
   "id": "b74fc17b",
   "metadata": {},
   "outputs": [
    {
     "data": {
      "text/plain": [
       "'you too'"
      ]
     },
     "execution_count": 2,
     "metadata": {},
     "output_type": "execute_result"
    }
   ],
   "source": [
    "a[4]+\" \"+a[2]"
   ]
  },
  {
   "cell_type": "code",
   "execution_count": 3,
   "id": "af486298",
   "metadata": {},
   "outputs": [],
   "source": [
    "#Q2\n",
    "a=['Life', 'is', 'too', 'short'] "
   ]
  },
  {
   "cell_type": "code",
   "execution_count": 4,
   "id": "5fc48fb8",
   "metadata": {},
   "outputs": [
    {
     "data": {
      "text/plain": [
       "['Life', 'is', 'too', 'short']"
      ]
     },
     "execution_count": 4,
     "metadata": {},
     "output_type": "execute_result"
    }
   ],
   "source": [
    "a"
   ]
  },
  {
   "cell_type": "code",
   "execution_count": 5,
   "id": "8d07c55a",
   "metadata": {},
   "outputs": [],
   "source": [
    "b=\" \". join(a)"
   ]
  },
  {
   "cell_type": "code",
   "execution_count": 6,
   "id": "c2262408",
   "metadata": {},
   "outputs": [
    {
     "name": "stdout",
     "output_type": "stream",
     "text": [
      "Life is too short\n"
     ]
    }
   ],
   "source": [
    "print(b)"
   ]
  },
  {
   "cell_type": "code",
   "execution_count": 7,
   "id": "d8d01216",
   "metadata": {},
   "outputs": [],
   "source": [
    "#Q3\n",
    "a=[1,2,3]"
   ]
  },
  {
   "cell_type": "code",
   "execution_count": 8,
   "id": "9e82d0d8",
   "metadata": {},
   "outputs": [
    {
     "data": {
      "text/plain": [
       "3"
      ]
     },
     "execution_count": 8,
     "metadata": {},
     "output_type": "execute_result"
    }
   ],
   "source": [
    "len(a)"
   ]
  },
  {
   "cell_type": "code",
   "execution_count": 9,
   "id": "771dc061",
   "metadata": {},
   "outputs": [],
   "source": [
    "#Q4\n",
    "a=[1,2,3]"
   ]
  },
  {
   "cell_type": "code",
   "execution_count": 10,
   "id": "f4b54b17",
   "metadata": {},
   "outputs": [],
   "source": [
    "a.append([4,5])"
   ]
  },
  {
   "cell_type": "code",
   "execution_count": 11,
   "id": "2baba65f",
   "metadata": {},
   "outputs": [
    {
     "data": {
      "text/plain": [
       "[1, 2, 3, [4, 5]]"
      ]
     },
     "execution_count": 11,
     "metadata": {},
     "output_type": "execute_result"
    }
   ],
   "source": [
    "a"
   ]
  },
  {
   "cell_type": "code",
   "execution_count": 12,
   "id": "7f3ab743",
   "metadata": {},
   "outputs": [],
   "source": [
    "a=[1,2,3]"
   ]
  },
  {
   "cell_type": "code",
   "execution_count": 13,
   "id": "ea22416f",
   "metadata": {},
   "outputs": [],
   "source": [
    "a.extend([4,5])"
   ]
  },
  {
   "cell_type": "code",
   "execution_count": 14,
   "id": "e23a23f7",
   "metadata": {},
   "outputs": [
    {
     "data": {
      "text/plain": [
       "[1, 2, 3, 4, 5]"
      ]
     },
     "execution_count": 14,
     "metadata": {},
     "output_type": "execute_result"
    }
   ],
   "source": [
    "a"
   ]
  },
  {
   "cell_type": "code",
   "execution_count": 15,
   "id": "46bdb7d8",
   "metadata": {},
   "outputs": [],
   "source": [
    "#Q5\n",
    "a=[1,3,5,4,2]"
   ]
  },
  {
   "cell_type": "code",
   "execution_count": 16,
   "id": "530b2837",
   "metadata": {},
   "outputs": [],
   "source": [
    "a.sort()"
   ]
  },
  {
   "cell_type": "code",
   "execution_count": 17,
   "id": "83f41ec0",
   "metadata": {},
   "outputs": [
    {
     "data": {
      "text/plain": [
       "[1, 2, 3, 4, 5]"
      ]
     },
     "execution_count": 17,
     "metadata": {},
     "output_type": "execute_result"
    }
   ],
   "source": [
    "a"
   ]
  },
  {
   "cell_type": "code",
   "execution_count": 18,
   "id": "a47dfc9b",
   "metadata": {},
   "outputs": [],
   "source": [
    "a.reverse()"
   ]
  },
  {
   "cell_type": "code",
   "execution_count": 19,
   "id": "74c669b7",
   "metadata": {},
   "outputs": [
    {
     "data": {
      "text/plain": [
       "[5, 4, 3, 2, 1]"
      ]
     },
     "execution_count": 19,
     "metadata": {},
     "output_type": "execute_result"
    }
   ],
   "source": [
    "a"
   ]
  },
  {
   "cell_type": "code",
   "execution_count": 20,
   "id": "d0f0fa39",
   "metadata": {},
   "outputs": [],
   "source": [
    "#Q6\n",
    "a=[1,2,3,4,5]"
   ]
  },
  {
   "cell_type": "code",
   "execution_count": 21,
   "id": "50c05390",
   "metadata": {},
   "outputs": [],
   "source": [
    "del a[1]"
   ]
  },
  {
   "cell_type": "code",
   "execution_count": 22,
   "id": "fb162c70",
   "metadata": {},
   "outputs": [
    {
     "data": {
      "text/plain": [
       "[1, 3, 4, 5]"
      ]
     },
     "execution_count": 22,
     "metadata": {},
     "output_type": "execute_result"
    }
   ],
   "source": [
    "a"
   ]
  },
  {
   "cell_type": "code",
   "execution_count": 23,
   "id": "b4d7b27d",
   "metadata": {},
   "outputs": [],
   "source": [
    "del a[2]"
   ]
  },
  {
   "cell_type": "code",
   "execution_count": 24,
   "id": "44c6ae39",
   "metadata": {},
   "outputs": [
    {
     "data": {
      "text/plain": [
       "[1, 3, 5]"
      ]
     },
     "execution_count": 24,
     "metadata": {},
     "output_type": "execute_result"
    }
   ],
   "source": [
    "a"
   ]
  },
  {
   "cell_type": "markdown",
   "id": "4f487d28",
   "metadata": {},
   "source": [
    "#---------------------------"
   ]
  },
  {
   "cell_type": "code",
   "execution_count": 93,
   "id": "56ff3188",
   "metadata": {},
   "outputs": [],
   "source": [
    "#Q1\n",
    "t=(3,)"
   ]
  },
  {
   "cell_type": "code",
   "execution_count": 94,
   "id": "ccd2b3e8",
   "metadata": {},
   "outputs": [
    {
     "data": {
      "text/plain": [
       "(3,)"
      ]
     },
     "execution_count": 94,
     "metadata": {},
     "output_type": "execute_result"
    }
   ],
   "source": [
    "t"
   ]
  },
  {
   "cell_type": "code",
   "execution_count": 96,
   "id": "db2d54b0",
   "metadata": {},
   "outputs": [],
   "source": [
    "#Q2\n",
    "t= 'because tuple is immutalbe'"
   ]
  },
  {
   "cell_type": "code",
   "execution_count": 97,
   "id": "093c219e",
   "metadata": {},
   "outputs": [],
   "source": [
    "#Q3\n",
    "t=(1,2,3)"
   ]
  },
  {
   "cell_type": "code",
   "execution_count": 98,
   "id": "650b1b50",
   "metadata": {},
   "outputs": [],
   "source": [
    "t1 = (4,)"
   ]
  },
  {
   "cell_type": "code",
   "execution_count": 99,
   "id": "5746deee",
   "metadata": {},
   "outputs": [
    {
     "data": {
      "text/plain": [
       "(1, 2, 3, 4)"
      ]
     },
     "execution_count": 99,
     "metadata": {},
     "output_type": "execute_result"
    }
   ],
   "source": [
    "t+t1"
   ]
  },
  {
   "cell_type": "markdown",
   "id": "d453be49",
   "metadata": {},
   "source": [
    "#--------------------------------"
   ]
  },
  {
   "cell_type": "code",
   "execution_count": 100,
   "id": "4e5a823c",
   "metadata": {},
   "outputs": [],
   "source": [
    "#Q1\n",
    "dic={'name':'홍길동', 'birth':1123, 'age':18}"
   ]
  },
  {
   "cell_type": "code",
   "execution_count": 101,
   "id": "80332fc8",
   "metadata": {},
   "outputs": [],
   "source": [
    "#Q2\n",
    "a=dict()"
   ]
  },
  {
   "cell_type": "code",
   "execution_count": 102,
   "id": "36e00a49",
   "metadata": {},
   "outputs": [
    {
     "data": {
      "text/plain": [
       "{}"
      ]
     },
     "execution_count": 102,
     "metadata": {},
     "output_type": "execute_result"
    }
   ],
   "source": [
    "a"
   ]
  },
  {
   "cell_type": "code",
   "execution_count": 104,
   "id": "e64ddd84",
   "metadata": {},
   "outputs": [],
   "source": [
    "a['name']='python'"
   ]
  },
  {
   "cell_type": "code",
   "execution_count": 105,
   "id": "3ba7201a",
   "metadata": {},
   "outputs": [
    {
     "data": {
      "text/plain": [
       "{'name': 'python'}"
      ]
     },
     "execution_count": 105,
     "metadata": {},
     "output_type": "execute_result"
    }
   ],
   "source": [
    "a"
   ]
  },
  {
   "cell_type": "code",
   "execution_count": 106,
   "id": "72722e92",
   "metadata": {},
   "outputs": [],
   "source": [
    "a[('a',)]='pythone'"
   ]
  },
  {
   "cell_type": "code",
   "execution_count": 107,
   "id": "93427f28",
   "metadata": {},
   "outputs": [
    {
     "data": {
      "text/plain": [
       "{'name': 'python', ('a',): 'pythone'}"
      ]
     },
     "execution_count": 107,
     "metadata": {},
     "output_type": "execute_result"
    }
   ],
   "source": [
    "a"
   ]
  },
  {
   "cell_type": "code",
   "execution_count": 109,
   "id": "c6f8460e",
   "metadata": {},
   "outputs": [],
   "source": [
    "answer = '''3번이 오류가 뜬다. key값은 바뀔 수 없는데 바뀌는게 가능한 []가 오기 \n",
    "때문이다'''"
   ]
  },
  {
   "cell_type": "code",
   "execution_count": 111,
   "id": "964bf7f6",
   "metadata": {},
   "outputs": [],
   "source": [
    "#Q3\n",
    "a={'A':90, 'B':80, 'C':70}"
   ]
  },
  {
   "cell_type": "code",
   "execution_count": 155,
   "id": "378f2aed",
   "metadata": {},
   "outputs": [
    {
     "data": {
      "text/plain": [
       "80"
      ]
     },
     "execution_count": 155,
     "metadata": {},
     "output_type": "execute_result"
    }
   ],
   "source": [
    "a.get('B')"
   ]
  },
  {
   "cell_type": "code",
   "execution_count": 158,
   "id": "1a8606e6",
   "metadata": {},
   "outputs": [],
   "source": [
    "del a['B']"
   ]
  },
  {
   "cell_type": "code",
   "execution_count": 159,
   "id": "5646778d",
   "metadata": {},
   "outputs": [
    {
     "data": {
      "text/plain": [
       "{'A': 90, 'C': 70}"
      ]
     },
     "execution_count": 159,
     "metadata": {},
     "output_type": "execute_result"
    }
   ],
   "source": [
    "a"
   ]
  },
  {
   "cell_type": "code",
   "execution_count": 146,
   "id": "689a76e8",
   "metadata": {},
   "outputs": [],
   "source": [
    "#Q4\n",
    "a = {'A':90, 'B':80}"
   ]
  },
  {
   "cell_type": "code",
   "execution_count": 147,
   "id": "c133f8f9",
   "metadata": {},
   "outputs": [
    {
     "data": {
      "text/plain": [
       "70"
      ]
     },
     "execution_count": 147,
     "metadata": {},
     "output_type": "execute_result"
    }
   ],
   "source": [
    "a.get('C', 70)"
   ]
  },
  {
   "cell_type": "code",
   "execution_count": 148,
   "id": "9d2ff3a2",
   "metadata": {},
   "outputs": [],
   "source": [
    "#Q5\n",
    "a={'A':90, 'B':80, 'C':70}"
   ]
  },
  {
   "cell_type": "code",
   "execution_count": 150,
   "id": "43ffae4e",
   "metadata": {},
   "outputs": [
    {
     "data": {
      "text/plain": [
       "70"
      ]
     },
     "execution_count": 150,
     "metadata": {},
     "output_type": "execute_result"
    }
   ],
   "source": [
    "a.get('C', 70)"
   ]
  },
  {
   "cell_type": "code",
   "execution_count": 151,
   "id": "d4863478",
   "metadata": {},
   "outputs": [],
   "source": [
    "#Q6\n",
    "a={'A':90, 'B':80, 'C':70}"
   ]
  },
  {
   "cell_type": "code",
   "execution_count": 153,
   "id": "553eccea",
   "metadata": {},
   "outputs": [
    {
     "data": {
      "text/plain": [
       "dict_items([('A', 90), ('B', 80), ('C', 70)])"
      ]
     },
     "execution_count": 153,
     "metadata": {},
     "output_type": "execute_result"
    }
   ],
   "source": [
    "a.items()"
   ]
  },
  {
   "cell_type": "code",
   "execution_count": 154,
   "id": "4ca99ae6",
   "metadata": {},
   "outputs": [
    {
     "data": {
      "text/plain": [
       "[('A', 90), ('B', 80), ('C', 70)]"
      ]
     },
     "execution_count": 154,
     "metadata": {},
     "output_type": "execute_result"
    }
   ],
   "source": [
    "list(a.items())"
   ]
  },
  {
   "cell_type": "code",
   "execution_count": null,
   "id": "2dab54ce",
   "metadata": {},
   "outputs": [],
   "source": []
  }
 ],
 "metadata": {
  "kernelspec": {
   "display_name": "Python 3",
   "language": "python",
   "name": "python3"
  },
  "language_info": {
   "codemirror_mode": {
    "name": "ipython",
    "version": 3
   },
   "file_extension": ".py",
   "mimetype": "text/x-python",
   "name": "python",
   "nbconvert_exporter": "python",
   "pygments_lexer": "ipython3",
   "version": "3.8.8"
  }
 },
 "nbformat": 4,
 "nbformat_minor": 5
}
