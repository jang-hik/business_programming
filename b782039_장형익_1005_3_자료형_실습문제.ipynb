{
 "cells": [
  {
   "cell_type": "code",
   "execution_count": 1,
   "id": "0b57ebc3",
   "metadata": {},
   "outputs": [],
   "source": [
    "#23\n",
    "string = \"홀짝홀짝홀짝\""
   ]
  },
  {
   "cell_type": "code",
   "execution_count": 2,
   "id": "c05b0ecc",
   "metadata": {},
   "outputs": [],
   "source": [
    "b=string[0]+string[2]+string[4]"
   ]
  },
  {
   "cell_type": "code",
   "execution_count": 3,
   "id": "91b23216",
   "metadata": {},
   "outputs": [
    {
     "name": "stdout",
     "output_type": "stream",
     "text": [
      "홀홀홀\n"
     ]
    }
   ],
   "source": [
    "print(b)"
   ]
  },
  {
   "cell_type": "code",
   "execution_count": 4,
   "id": "dc274302",
   "metadata": {},
   "outputs": [],
   "source": [
    "#26\n",
    "phone_number = \"010-1111-2222\""
   ]
  },
  {
   "cell_type": "code",
   "execution_count": 5,
   "id": "3c82084d",
   "metadata": {},
   "outputs": [
    {
     "data": {
      "text/plain": [
       "'01011112222'"
      ]
     },
     "execution_count": 5,
     "metadata": {},
     "output_type": "execute_result"
    }
   ],
   "source": [
    "phone_number.replace(\"-\", \"\")"
   ]
  },
  {
   "cell_type": "code",
   "execution_count": 6,
   "id": "8a321876",
   "metadata": {},
   "outputs": [],
   "source": [
    "#29\n",
    "string = 'abcdfe2a354a32a'"
   ]
  },
  {
   "cell_type": "code",
   "execution_count": 7,
   "id": "b93e4b6b",
   "metadata": {},
   "outputs": [
    {
     "data": {
      "text/plain": [
       "'Abcdfe2A354A32A'"
      ]
     },
     "execution_count": 7,
     "metadata": {},
     "output_type": "execute_result"
    }
   ],
   "source": [
    "string.replace('a', 'A')"
   ]
  },
  {
   "cell_type": "code",
   "execution_count": 8,
   "id": "7d0cea73",
   "metadata": {},
   "outputs": [],
   "source": [
    "#15\n",
    "t1 = 'python'\n",
    "t2 = 'java'"
   ]
  },
  {
   "cell_type": "code",
   "execution_count": 9,
   "id": "7e73fc61",
   "metadata": {},
   "outputs": [],
   "source": [
    "a=t1+\" \"+t2+\" \""
   ]
  },
  {
   "cell_type": "code",
   "execution_count": 10,
   "id": "ed6c7ba8",
   "metadata": {},
   "outputs": [
    {
     "data": {
      "text/plain": [
       "'python java python java python java python java '"
      ]
     },
     "execution_count": 10,
     "metadata": {},
     "output_type": "execute_result"
    }
   ],
   "source": [
    "a*4"
   ]
  },
  {
   "cell_type": "code",
   "execution_count": 11,
   "id": "e5beaf61",
   "metadata": {},
   "outputs": [],
   "source": [
    "#19\n",
    "num_str = \"720\""
   ]
  },
  {
   "cell_type": "code",
   "execution_count": 12,
   "id": "64739923",
   "metadata": {},
   "outputs": [
    {
     "data": {
      "text/plain": [
       "720"
      ]
     },
     "execution_count": 12,
     "metadata": {},
     "output_type": "execute_result"
    }
   ],
   "source": [
    "int(num_str)"
   ]
  },
  {
   "cell_type": "code",
   "execution_count": 13,
   "id": "dff9ca6d",
   "metadata": {},
   "outputs": [],
   "source": [
    "#43\n",
    "movie_rank = ['닥터 스트레인지', '스플릿', '럭키', '배트맨']"
   ]
  },
  {
   "cell_type": "code",
   "execution_count": 14,
   "id": "2b4e2ba5",
   "metadata": {},
   "outputs": [],
   "source": [
    "movie_rank.insert(1,'슈퍼맨')"
   ]
  },
  {
   "cell_type": "code",
   "execution_count": 15,
   "id": "dcf8ed42",
   "metadata": {},
   "outputs": [
    {
     "data": {
      "text/plain": [
       "['닥터 스트레인지', '슈퍼맨', '스플릿', '럭키', '배트맨']"
      ]
     },
     "execution_count": 15,
     "metadata": {},
     "output_type": "execute_result"
    }
   ],
   "source": [
    "movie_rank"
   ]
  },
  {
   "cell_type": "code",
   "execution_count": 1,
   "id": "b5d83d11",
   "metadata": {},
   "outputs": [],
   "source": [
    "#47\n",
    "nums = [1, 2, 3, 4, 5, 6, 7]"
   ]
  },
  {
   "cell_type": "code",
   "execution_count": 3,
   "id": "f5fd3646",
   "metadata": {},
   "outputs": [
    {
     "name": "stdout",
     "output_type": "stream",
     "text": [
      "1\n"
     ]
    }
   ],
   "source": [
    "print(min(nums))"
   ]
  },
  {
   "cell_type": "code",
   "execution_count": 4,
   "id": "31a2d5e1",
   "metadata": {},
   "outputs": [
    {
     "name": "stdout",
     "output_type": "stream",
     "text": [
      "7\n"
     ]
    }
   ],
   "source": [
    "print(max(nums))"
   ]
  },
  {
   "cell_type": "code",
   "execution_count": 5,
   "id": "6dc26b55",
   "metadata": {},
   "outputs": [],
   "source": [
    "#48\n",
    "nums = [1, 2, 3, 4, 5, 6, 7]"
   ]
  },
  {
   "cell_type": "code",
   "execution_count": 8,
   "id": "06a85b6f",
   "metadata": {},
   "outputs": [
    {
     "name": "stdout",
     "output_type": "stream",
     "text": [
      "28\n"
     ]
    }
   ],
   "source": [
    "print(sum(nums))"
   ]
  },
  {
   "cell_type": "code",
   "execution_count": 13,
   "id": "219b8e3e",
   "metadata": {},
   "outputs": [],
   "source": [
    "#49\n",
    "cook = [\"피자\", \"김밥\", \"만두\", \"양념치킨\", \"족발\", \"피자\",\n",
    "        \"김치만두\", \"쫄면\", \"쏘세지\", \"라면\", \"팥빙수\", \"김치전\"]"
   ]
  },
  {
   "cell_type": "code",
   "execution_count": 16,
   "id": "97f24ad7",
   "metadata": {},
   "outputs": [
    {
     "name": "stdout",
     "output_type": "stream",
     "text": [
      "12\n"
     ]
    }
   ],
   "source": [
    "print(len(cook))"
   ]
  },
  {
   "cell_type": "code",
   "execution_count": 17,
   "id": "a817d891",
   "metadata": {},
   "outputs": [],
   "source": [
    "#50\n",
    "nums = [1, 2, 3, 4, 5]"
   ]
  },
  {
   "cell_type": "code",
   "execution_count": 20,
   "id": "f15e6412",
   "metadata": {},
   "outputs": [
    {
     "name": "stdout",
     "output_type": "stream",
     "text": [
      "3.0\n"
     ]
    }
   ],
   "source": [
    "print(sum(nums)/len(nums))"
   ]
  },
  {
   "cell_type": "code",
   "execution_count": 29,
   "id": "4ee48afb",
   "metadata": {},
   "outputs": [],
   "source": [
    "#56\n",
    "interest = ['삼성전자', 'LG전자', 'Naver', 'SK하이닉스', '미래에셋대우']"
   ]
  },
  {
   "cell_type": "code",
   "execution_count": 41,
   "id": "0737f932",
   "metadata": {},
   "outputs": [
    {
     "name": "stdout",
     "output_type": "stream",
     "text": [
      "삼성전자 LG전자 Naver SK하이닉스 미래에셋대우\n"
     ]
    }
   ],
   "source": [
    "print(\" \".join(interest))"
   ]
  },
  {
   "cell_type": "code",
   "execution_count": 42,
   "id": "537d26e3",
   "metadata": {},
   "outputs": [],
   "source": [
    "#57\n",
    "interest = ['삼성전자', 'LG전자', 'Naver', 'SK하이닉스', '미래에셋대우']"
   ]
  },
  {
   "cell_type": "code",
   "execution_count": 43,
   "id": "d1aa7bd1",
   "metadata": {},
   "outputs": [
    {
     "name": "stdout",
     "output_type": "stream",
     "text": [
      "삼성전자/LG전자/Naver/SK하이닉스/미래에셋대우\n"
     ]
    }
   ],
   "source": [
    "print(\"/\".join(interest))"
   ]
  },
  {
   "cell_type": "code",
   "execution_count": 44,
   "id": "0359c77c",
   "metadata": {},
   "outputs": [],
   "source": [
    "#58\n",
    "interest = ['삼성전자', 'LG전자', 'Naver', 'SK하이닉스', '미래에셋대우']"
   ]
  },
  {
   "cell_type": "code",
   "execution_count": 48,
   "id": "9ceb165a",
   "metadata": {},
   "outputs": [
    {
     "name": "stdout",
     "output_type": "stream",
     "text": [
      "삼성전자\n",
      "LG전자\n",
      "Naver\n",
      "SK하이닉스\n",
      "미래에셋대우\n"
     ]
    }
   ],
   "source": [
    "print(\"\\n\".join(interest))"
   ]
  },
  {
   "cell_type": "code",
   "execution_count": 50,
   "id": "8e07b256",
   "metadata": {},
   "outputs": [],
   "source": [
    "#59\n",
    "string = \"삼성전자/LG전자/Naver\""
   ]
  },
  {
   "cell_type": "code",
   "execution_count": 53,
   "id": "9c39b7ac",
   "metadata": {},
   "outputs": [],
   "source": [
    "interest=string.split('/')"
   ]
  },
  {
   "cell_type": "code",
   "execution_count": 54,
   "id": "7e530b60",
   "metadata": {},
   "outputs": [
    {
     "name": "stdout",
     "output_type": "stream",
     "text": [
      "['삼성전자', 'LG전자', 'Naver']\n"
     ]
    }
   ],
   "source": [
    "print(interest)"
   ]
  },
  {
   "cell_type": "code",
   "execution_count": 55,
   "id": "75e92896",
   "metadata": {},
   "outputs": [],
   "source": [
    "#87\n",
    "icecream = {'탱크보이': 1200, '폴라포': 1200, '빵빠레': 1800, \n",
    "            '월드콘': 1500, '메로나': 1000}"
   ]
  },
  {
   "cell_type": "code",
   "execution_count": 65,
   "id": "7488edea",
   "metadata": {},
   "outputs": [
    {
     "name": "stdout",
     "output_type": "stream",
     "text": [
      "1340.0\n"
     ]
    }
   ],
   "source": [
    "print(sum(icecream.values())/len(icecream))"
   ]
  },
  {
   "cell_type": "code",
   "execution_count": 67,
   "id": "741f5e5b",
   "metadata": {},
   "outputs": [],
   "source": [
    "#88\n",
    "icecream = {'탱크보이': 1200, '폴라포': 1200, '빵빠레': 1800, \n",
    "            '월드콘': 1500, '메로나': 1000}\n",
    "new_product = {'팥빙수':2700, '아맛나':1000}"
   ]
  },
  {
   "cell_type": "code",
   "execution_count": 73,
   "id": "5c8c28c5",
   "metadata": {},
   "outputs": [],
   "source": [
    "icecream .update(new_product)"
   ]
  },
  {
   "cell_type": "code",
   "execution_count": 74,
   "id": "61247a57",
   "metadata": {},
   "outputs": [
    {
     "name": "stdout",
     "output_type": "stream",
     "text": [
      "{'탱크보이': 1200, '폴라포': 1200, '빵빠레': 1800, '월드콘': 1500, '메로나': 1000, '팥빙수': 2700, '아맛나': 1000}\n"
     ]
    }
   ],
   "source": [
    "print(icecream)"
   ]
  },
  {
   "cell_type": "code",
   "execution_count": 83,
   "id": "bd29cc4b",
   "metadata": {},
   "outputs": [],
   "source": [
    "#89\n",
    "keys = (\"apple\", \"pear\", \"peach\")\n",
    "vals = (300, 250, 400)"
   ]
  },
  {
   "cell_type": "code",
   "execution_count": 85,
   "id": "05fa3f23",
   "metadata": {},
   "outputs": [],
   "source": [
    "result=dict(zip(keys,vals))"
   ]
  },
  {
   "cell_type": "code",
   "execution_count": 86,
   "id": "98c12c37",
   "metadata": {},
   "outputs": [
    {
     "name": "stdout",
     "output_type": "stream",
     "text": [
      "{'apple': 300, 'pear': 250, 'peach': 400}\n"
     ]
    }
   ],
   "source": [
    "print(result)"
   ]
  },
  {
   "cell_type": "code",
   "execution_count": null,
   "id": "5e291e86",
   "metadata": {},
   "outputs": [],
   "source": []
  }
 ],
 "metadata": {
  "kernelspec": {
   "display_name": "Python 3",
   "language": "python",
   "name": "python3"
  },
  "language_info": {
   "codemirror_mode": {
    "name": "ipython",
    "version": 3
   },
   "file_extension": ".py",
   "mimetype": "text/x-python",
   "name": "python",
   "nbconvert_exporter": "python",
   "pygments_lexer": "ipython3",
   "version": "3.8.8"
  }
 },
 "nbformat": 4,
 "nbformat_minor": 5
}
