{
 "cells": [
  {
   "cell_type": "code",
   "execution_count": 1,
   "id": "2531ed15",
   "metadata": {},
   "outputs": [],
   "source": [
    "#문제1"
   ]
  },
  {
   "cell_type": "code",
   "execution_count": 2,
   "id": "48a806af",
   "metadata": {},
   "outputs": [],
   "source": [
    "def is_odd(num):\n",
    "    if num%2==0:\n",
    "        print(f\"{num}은 짝수입니다.\")\n",
    "    if num%2==1:\n",
    "        print(f\"{num}은 홀수입니다.\")"
   ]
  },
  {
   "cell_type": "code",
   "execution_count": 5,
   "id": "547ce001",
   "metadata": {},
   "outputs": [
    {
     "name": "stdout",
     "output_type": "stream",
     "text": [
      "2은 짝수입니다.\n",
      "7은 홀수입니다.\n"
     ]
    }
   ],
   "source": [
    "is_odd(2)\n",
    "is_odd(7)"
   ]
  },
  {
   "cell_type": "code",
   "execution_count": 6,
   "id": "b46279a8",
   "metadata": {},
   "outputs": [],
   "source": [
    "#문제2"
   ]
  },
  {
   "cell_type": "code",
   "execution_count": 15,
   "id": "139f89d7",
   "metadata": {},
   "outputs": [],
   "source": [
    "def avg(*num):\n",
    "    sm=0\n",
    "    for i in num:\n",
    "        sm += i\n",
    "    print(sm/len(num))     "
   ]
  },
  {
   "cell_type": "code",
   "execution_count": 22,
   "id": "fbd3e6c4",
   "metadata": {},
   "outputs": [
    {
     "name": "stdout",
     "output_type": "stream",
     "text": [
      "4.5\n"
     ]
    }
   ],
   "source": [
    "avg(1,2,3,4,5,6,7,8)"
   ]
  },
  {
   "cell_type": "code",
   "execution_count": 17,
   "id": "eecfb3f4",
   "metadata": {},
   "outputs": [],
   "source": [
    "#문제3"
   ]
  },
  {
   "cell_type": "code",
   "execution_count": 25,
   "id": "e63af8dc",
   "metadata": {},
   "outputs": [],
   "source": [
    "def gugudan(n):\n",
    "    for a in range(1,10):\n",
    "        print(n*a, end = \" \")"
   ]
  },
  {
   "cell_type": "code",
   "execution_count": 26,
   "id": "1ab6f71f",
   "metadata": {},
   "outputs": [
    {
     "name": "stdout",
     "output_type": "stream",
     "text": [
      "3 6 9 12 15 18 21 24 27 "
     ]
    }
   ],
   "source": [
    "gugudan(3)"
   ]
  },
  {
   "cell_type": "code",
   "execution_count": null,
   "id": "c62c99d4",
   "metadata": {},
   "outputs": [],
   "source": []
  }
 ],
 "metadata": {
  "kernelspec": {
   "display_name": "Python 3",
   "language": "python",
   "name": "python3"
  },
  "language_info": {
   "codemirror_mode": {
    "name": "ipython",
    "version": 3
   },
   "file_extension": ".py",
   "mimetype": "text/x-python",
   "name": "python",
   "nbconvert_exporter": "python",
   "pygments_lexer": "ipython3",
   "version": "3.8.8"
  }
 },
 "nbformat": 4,
 "nbformat_minor": 5
}
