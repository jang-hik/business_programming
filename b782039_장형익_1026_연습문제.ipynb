{
 "cells": [
  {
   "cell_type": "code",
   "execution_count": 1,
   "id": "a1024413",
   "metadata": {},
   "outputs": [],
   "source": [
    "#문제1"
   ]
  },
  {
   "cell_type": "code",
   "execution_count": 8,
   "id": "412fe2d0",
   "metadata": {},
   "outputs": [
    {
     "name": "stdout",
     "output_type": "stream",
     "text": [
      "1,2,3,4,5,6,7,8,9,10,11,12,13,14,15,16,17,18,19,20,21,22,23,24,25,26,27,28,29,30,31,32,33,34,35,36,37,38,39,40,41,42,43,44,45,46,47,48,49,50,51,52,53,54,55,56,57,58,59,60,61,62,63,64,65,66,67,68,69,70,71,72,73,74,75,76,77,78,79,80,81,82,83,84,85,86,87,88,89,90,91,92,93,94,95,96,97,98,99,100,"
     ]
    }
   ],
   "source": [
    "i=0  #for 바로 다음에 나오는 i는 변수지정을 안해줘도 된다\n",
    "for i in range(1,101):\n",
    "    print(i,end=\",\")"
   ]
  },
  {
   "cell_type": "code",
   "execution_count": 9,
   "id": "a9058686",
   "metadata": {},
   "outputs": [],
   "source": [
    "#문제2"
   ]
  },
  {
   "cell_type": "code",
   "execution_count": 38,
   "id": "9cc38937",
   "metadata": {},
   "outputs": [
    {
     "name": "stdout",
     "output_type": "stream",
     "text": [
      "100500\n"
     ]
    }
   ],
   "source": [
    "i=0\n",
    "for a in range(1,1001):  #for 바로 뒤에 나오는 a는 변수지정을 안해줘도 된다.\n",
    "    if a%5==0:\n",
    "        i+=a\n",
    "print(i)"
   ]
  },
  {
   "cell_type": "code",
   "execution_count": 20,
   "id": "f7834cba",
   "metadata": {},
   "outputs": [],
   "source": [
    "#문제3"
   ]
  },
  {
   "cell_type": "code",
   "execution_count": 21,
   "id": "d9aa7713",
   "metadata": {},
   "outputs": [],
   "source": [
    "A=[70, 60, 55, 75, 95, 90, 80, 80, 85, 100]"
   ]
  },
  {
   "cell_type": "code",
   "execution_count": 25,
   "id": "d9e3ce64",
   "metadata": {},
   "outputs": [
    {
     "name": "stdout",
     "output_type": "stream",
     "text": [
      "79.0\n"
     ]
    }
   ],
   "source": [
    "b=0\n",
    "for a in A:\n",
    "    b+=a\n",
    "print(b/len(A))"
   ]
  },
  {
   "cell_type": "code",
   "execution_count": 26,
   "id": "06faefdc",
   "metadata": {},
   "outputs": [],
   "source": [
    "#문제4 내풀이"
   ]
  },
  {
   "cell_type": "code",
   "execution_count": 36,
   "id": "9a385fa6",
   "metadata": {},
   "outputs": [],
   "source": [
    "blood=['A', 'B', 'A', 'O', 'AB', 'AB', 'O', 'A', 'B', 'O', 'B', 'AB']"
   ]
  },
  {
   "cell_type": "code",
   "execution_count": 37,
   "id": "5dfbdaf0",
   "metadata": {},
   "outputs": [
    {
     "name": "stdout",
     "output_type": "stream",
     "text": [
      "A형은 :3, B형은 3, O형은 3, AB형은 3\n"
     ]
    }
   ],
   "source": [
    "A_type=0\n",
    "B_type=0\n",
    "O_type=0\n",
    "AB_type=0\n",
    "for i in blood:\n",
    "    if i=='A':\n",
    "        A_type+=1\n",
    "    elif i=='B':\n",
    "        B_type+=1\n",
    "    elif i=='O':\n",
    "        O_type+=1\n",
    "    elif i=='AB':\n",
    "        AB_type+=1\n",
    "print(f\"A형은 :{A_type}, B형은 {B_type}, O형은 {O_type}, AB형은 {AB_type}\")"
   ]
  },
  {
   "cell_type": "code",
   "execution_count": 39,
   "id": "f34241df",
   "metadata": {},
   "outputs": [],
   "source": [
    "#문제4 교수님 풀이"
   ]
  },
  {
   "cell_type": "code",
   "execution_count": 3,
   "id": "0776c752",
   "metadata": {},
   "outputs": [],
   "source": [
    "data=['A', 'B', 'A', 'O', 'AB', 'AB', 'O', 'A', 'B', 'O', 'B', 'AB']\n",
    "result={}"
   ]
  },
  {
   "cell_type": "code",
   "execution_count": 4,
   "id": "e1c7da4b",
   "metadata": {},
   "outputs": [
    {
     "name": "stdout",
     "output_type": "stream",
     "text": [
      "{'A': 3, 'B': 3, 'O': 3, 'AB': 3}\n"
     ]
    }
   ],
   "source": [
    "for blood_type in data:\n",
    "    if blood_type in result:\n",
    "        result[blood_type]+=1\n",
    "    else:\n",
    "        result[blood_type]=1\n",
    "print(result)        "
   ]
  }
 ],
 "metadata": {
  "kernelspec": {
   "display_name": "Python 3",
   "language": "python",
   "name": "python3"
  },
  "language_info": {
   "codemirror_mode": {
    "name": "ipython",
    "version": 3
   },
   "file_extension": ".py",
   "mimetype": "text/x-python",
   "name": "python",
   "nbconvert_exporter": "python",
   "pygments_lexer": "ipython3",
   "version": "3.8.8"
  }
 },
 "nbformat": 4,
 "nbformat_minor": 5
}
