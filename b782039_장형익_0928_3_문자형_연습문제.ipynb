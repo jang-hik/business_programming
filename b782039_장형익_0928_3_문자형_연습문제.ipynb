{
 "cells": [
  {
   "cell_type": "code",
   "execution_count": 7,
   "id": "8fdf494d",
   "metadata": {},
   "outputs": [],
   "source": [
    "#Q7"
   ]
  },
  {
   "cell_type": "code",
   "execution_count": 6,
   "id": "25e47647",
   "metadata": {},
   "outputs": [
    {
     "data": {
      "text/plain": [
       "'                        PYTHON'"
      ]
     },
     "execution_count": 6,
     "metadata": {},
     "output_type": "execute_result"
    }
   ],
   "source": [
    "\"{0:>30}\".format('PYTHON')"
   ]
  },
  {
   "cell_type": "code",
   "execution_count": 8,
   "id": "e049d408",
   "metadata": {},
   "outputs": [],
   "source": [
    "#Q8"
   ]
  },
  {
   "cell_type": "code",
   "execution_count": 10,
   "id": "5a40f02f",
   "metadata": {},
   "outputs": [],
   "source": [
    "a = 'Life is too short, you need python'"
   ]
  },
  {
   "cell_type": "code",
   "execution_count": 13,
   "id": "07f0fce1",
   "metadata": {},
   "outputs": [
    {
     "data": {
      "text/plain": [
       "12"
      ]
     },
     "execution_count": 13,
     "metadata": {},
     "output_type": "execute_result"
    }
   ],
   "source": [
    "a.index('short')"
   ]
  },
  {
   "cell_type": "code",
   "execution_count": 14,
   "id": "6f89a58f",
   "metadata": {},
   "outputs": [],
   "source": [
    "#Q9"
   ]
  },
  {
   "cell_type": "code",
   "execution_count": 17,
   "id": "a83544e1",
   "metadata": {},
   "outputs": [],
   "source": [
    "a='a:b:c:d'"
   ]
  },
  {
   "cell_type": "code",
   "execution_count": 18,
   "id": "9723ab09",
   "metadata": {},
   "outputs": [
    {
     "data": {
      "text/plain": [
       "'a#b#c#d'"
      ]
     },
     "execution_count": 18,
     "metadata": {},
     "output_type": "execute_result"
    }
   ],
   "source": [
    "a.replace(\":\", \"#\")"
   ]
  },
  {
   "cell_type": "code",
   "execution_count": null,
   "id": "e52a47dd",
   "metadata": {},
   "outputs": [],
   "source": [
    "#Q10"
   ]
  },
  {
   "cell_type": "code",
   "execution_count": 34,
   "id": "0695d5b3",
   "metadata": {},
   "outputs": [],
   "source": [
    "a='a:b:c:d'"
   ]
  },
  {
   "cell_type": "code",
   "execution_count": 39,
   "id": "705306cc",
   "metadata": {},
   "outputs": [],
   "source": [
    "c = a.split(':')"
   ]
  },
  {
   "cell_type": "code",
   "execution_count": 40,
   "id": "0d47e5a6",
   "metadata": {},
   "outputs": [
    {
     "data": {
      "text/plain": [
       "['a', 'b', 'c', 'd']"
      ]
     },
     "execution_count": 40,
     "metadata": {},
     "output_type": "execute_result"
    }
   ],
   "source": [
    "c"
   ]
  },
  {
   "cell_type": "code",
   "execution_count": 41,
   "id": "2e9930ca",
   "metadata": {},
   "outputs": [],
   "source": [
    "g='#'.join(c)"
   ]
  },
  {
   "cell_type": "code",
   "execution_count": 42,
   "id": "11da8742",
   "metadata": {},
   "outputs": [
    {
     "data": {
      "text/plain": [
       "'a#b#c#d'"
      ]
     },
     "execution_count": 42,
     "metadata": {},
     "output_type": "execute_result"
    }
   ],
   "source": [
    "g"
   ]
  },
  {
   "cell_type": "code",
   "execution_count": null,
   "id": "9401a7f7",
   "metadata": {},
   "outputs": [],
   "source": []
  }
 ],
 "metadata": {
  "kernelspec": {
   "display_name": "Python 3",
   "language": "python",
   "name": "python3"
  },
  "language_info": {
   "codemirror_mode": {
    "name": "ipython",
    "version": 3
   },
   "file_extension": ".py",
   "mimetype": "text/x-python",
   "name": "python",
   "nbconvert_exporter": "python",
   "pygments_lexer": "ipython3",
   "version": "3.8.8"
  }
 },
 "nbformat": 4,
 "nbformat_minor": 5
}
