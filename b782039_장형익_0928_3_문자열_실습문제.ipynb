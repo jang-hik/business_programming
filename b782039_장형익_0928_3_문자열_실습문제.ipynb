{
 "cells": [
  {
   "cell_type": "code",
   "execution_count": 6,
   "id": "2ec0832f",
   "metadata": {},
   "outputs": [],
   "source": [
    "head = \"python\""
   ]
  },
  {
   "cell_type": "code",
   "execution_count": 7,
   "id": "e4558f9d",
   "metadata": {},
   "outputs": [],
   "source": [
    "tail = ' is fun!'"
   ]
  },
  {
   "cell_type": "code",
   "execution_count": 8,
   "id": "69a24069",
   "metadata": {},
   "outputs": [
    {
     "data": {
      "text/plain": [
       "'python is fun!'"
      ]
     },
     "execution_count": 8,
     "metadata": {},
     "output_type": "execute_result"
    }
   ],
   "source": [
    "head + tail"
   ]
  },
  {
   "cell_type": "code",
   "execution_count": 11,
   "id": "efbf9de7",
   "metadata": {},
   "outputs": [
    {
     "data": {
      "text/plain": [
       "'pythonpythonpythonpythonpythonpythonpythonpythonpythonpython'"
      ]
     },
     "execution_count": 11,
     "metadata": {},
     "output_type": "execute_result"
    }
   ],
   "source": [
    "head * 10"
   ]
  },
  {
   "cell_type": "code",
   "execution_count": 13,
   "id": "7465a974",
   "metadata": {},
   "outputs": [
    {
     "name": "stdout",
     "output_type": "stream",
     "text": [
      "++++++++++++++++++++++++++++++++++++++++++++++++++\n",
      "my program\n",
      "++++++++++++++++++++++++++++++++++++++++++++++++++\n"
     ]
    }
   ],
   "source": [
    "print('+' * 50)\n",
    "print(\"my program\")\n",
    "print('+' * 50)"
   ]
  },
  {
   "cell_type": "code",
   "execution_count": 14,
   "id": "ab0347cb",
   "metadata": {},
   "outputs": [
    {
     "data": {
      "text/plain": [
       "6"
      ]
     },
     "execution_count": 14,
     "metadata": {},
     "output_type": "execute_result"
    }
   ],
   "source": [
    "len(head)"
   ]
  },
  {
   "cell_type": "code",
   "execution_count": 27,
   "id": "18818768",
   "metadata": {},
   "outputs": [],
   "source": [
    "a = \"life is too short, you need python\""
   ]
  },
  {
   "cell_type": "code",
   "execution_count": 28,
   "id": "58137ae5",
   "metadata": {},
   "outputs": [
    {
     "data": {
      "text/plain": [
       "'life is too short, you need python'"
      ]
     },
     "execution_count": 28,
     "metadata": {},
     "output_type": "execute_result"
    }
   ],
   "source": [
    "a"
   ]
  },
  {
   "cell_type": "code",
   "execution_count": 29,
   "id": "ab1f1dd1",
   "metadata": {},
   "outputs": [
    {
     "data": {
      "text/plain": [
       "'e'"
      ]
     },
     "execution_count": 29,
     "metadata": {},
     "output_type": "execute_result"
    }
   ],
   "source": [
    "a[3]"
   ]
  },
  {
   "cell_type": "code",
   "execution_count": 30,
   "id": "7ff5060f",
   "metadata": {},
   "outputs": [
    {
     "data": {
      "text/plain": [
       "','"
      ]
     },
     "execution_count": 30,
     "metadata": {},
     "output_type": "execute_result"
    }
   ],
   "source": [
    "a[17]"
   ]
  },
  {
   "cell_type": "code",
   "execution_count": 31,
   "id": "c13aee5e",
   "metadata": {},
   "outputs": [
    {
     "data": {
      "text/plain": [
       "'h'"
      ]
     },
     "execution_count": 31,
     "metadata": {},
     "output_type": "execute_result"
    }
   ],
   "source": [
    "a[-3]"
   ]
  },
  {
   "cell_type": "code",
   "execution_count": 32,
   "id": "53235458",
   "metadata": {},
   "outputs": [
    {
     "data": {
      "text/plain": [
       "'l'"
      ]
     },
     "execution_count": 32,
     "metadata": {},
     "output_type": "execute_result"
    }
   ],
   "source": [
    "a[-0]"
   ]
  },
  {
   "cell_type": "code",
   "execution_count": 33,
   "id": "bffc9200",
   "metadata": {},
   "outputs": [
    {
     "data": {
      "text/plain": [
       "'life is too short, you need python'"
      ]
     },
     "execution_count": 33,
     "metadata": {},
     "output_type": "execute_result"
    }
   ],
   "source": [
    "a"
   ]
  },
  {
   "cell_type": "code",
   "execution_count": 38,
   "id": "5bb75ebf",
   "metadata": {},
   "outputs": [
    {
     "data": {
      "text/plain": [
       "'is'"
      ]
     },
     "execution_count": 38,
     "metadata": {},
     "output_type": "execute_result"
    }
   ],
   "source": [
    "a[5:7]"
   ]
  },
  {
   "cell_type": "code",
   "execution_count": 45,
   "id": "753b72d6",
   "metadata": {},
   "outputs": [
    {
     "data": {
      "text/plain": [
       "'you need'"
      ]
     },
     "execution_count": 45,
     "metadata": {},
     "output_type": "execute_result"
    }
   ],
   "source": [
    "a[19:-7]"
   ]
  },
  {
   "cell_type": "code",
   "execution_count": 46,
   "id": "3edb0472",
   "metadata": {},
   "outputs": [],
   "source": [
    "a = \"20010331rainy\""
   ]
  },
  {
   "cell_type": "code",
   "execution_count": 47,
   "id": "e10c0b97",
   "metadata": {},
   "outputs": [],
   "source": [
    "year = a[:4]"
   ]
  },
  {
   "cell_type": "code",
   "execution_count": 48,
   "id": "ba6016b1",
   "metadata": {},
   "outputs": [],
   "source": [
    "day = a[4:8]"
   ]
  },
  {
   "cell_type": "code",
   "execution_count": 49,
   "id": "8ac0baea",
   "metadata": {},
   "outputs": [],
   "source": [
    "weather = a[8:]"
   ]
  },
  {
   "cell_type": "code",
   "execution_count": 50,
   "id": "eca712af",
   "metadata": {},
   "outputs": [
    {
     "data": {
      "text/plain": [
       "'2001'"
      ]
     },
     "execution_count": 50,
     "metadata": {},
     "output_type": "execute_result"
    }
   ],
   "source": [
    "year"
   ]
  },
  {
   "cell_type": "code",
   "execution_count": 51,
   "id": "4259ad98",
   "metadata": {},
   "outputs": [
    {
     "data": {
      "text/plain": [
       "'0331'"
      ]
     },
     "execution_count": 51,
     "metadata": {},
     "output_type": "execute_result"
    }
   ],
   "source": [
    "day"
   ]
  },
  {
   "cell_type": "code",
   "execution_count": 53,
   "id": "b7aac715",
   "metadata": {},
   "outputs": [
    {
     "data": {
      "text/plain": [
       "'rainy'"
      ]
     },
     "execution_count": 53,
     "metadata": {},
     "output_type": "execute_result"
    }
   ],
   "source": [
    "weather"
   ]
  },
  {
   "cell_type": "code",
   "execution_count": 56,
   "id": "ab3bf414",
   "metadata": {},
   "outputs": [],
   "source": [
    "b = '881120-1068234'"
   ]
  },
  {
   "cell_type": "code",
   "execution_count": 67,
   "id": "3ed70dcc",
   "metadata": {},
   "outputs": [],
   "source": [
    "YYYY=b[:2]"
   ]
  },
  {
   "cell_type": "code",
   "execution_count": 68,
   "id": "17a34236",
   "metadata": {},
   "outputs": [
    {
     "data": {
      "text/plain": [
       "'88'"
      ]
     },
     "execution_count": 68,
     "metadata": {},
     "output_type": "execute_result"
    }
   ],
   "source": [
    "YYYY"
   ]
  },
  {
   "cell_type": "code",
   "execution_count": 69,
   "id": "d371db23",
   "metadata": {},
   "outputs": [],
   "source": [
    "MM=b[2:4]"
   ]
  },
  {
   "cell_type": "code",
   "execution_count": 70,
   "id": "12fb7167",
   "metadata": {},
   "outputs": [
    {
     "data": {
      "text/plain": [
       "'11'"
      ]
     },
     "execution_count": 70,
     "metadata": {},
     "output_type": "execute_result"
    }
   ],
   "source": [
    "MM"
   ]
  },
  {
   "cell_type": "code",
   "execution_count": 71,
   "id": "ec420ea7",
   "metadata": {},
   "outputs": [],
   "source": [
    "DD=b[4:6]"
   ]
  },
  {
   "cell_type": "code",
   "execution_count": 72,
   "id": "075b87b7",
   "metadata": {},
   "outputs": [
    {
     "data": {
      "text/plain": [
       "'20'"
      ]
     },
     "execution_count": 72,
     "metadata": {},
     "output_type": "execute_result"
    }
   ],
   "source": [
    "DD"
   ]
  },
  {
   "cell_type": "code",
   "execution_count": 77,
   "id": "1fe8ee9f",
   "metadata": {},
   "outputs": [],
   "source": [
    "BACK=b[7:]"
   ]
  },
  {
   "cell_type": "code",
   "execution_count": 78,
   "id": "6c094d06",
   "metadata": {},
   "outputs": [
    {
     "data": {
      "text/plain": [
       "'1068234'"
      ]
     },
     "execution_count": 78,
     "metadata": {},
     "output_type": "execute_result"
    }
   ],
   "source": [
    "BACK"
   ]
  },
  {
   "cell_type": "code",
   "execution_count": 81,
   "id": "55b9773c",
   "metadata": {},
   "outputs": [],
   "source": [
    "s = b[7]"
   ]
  },
  {
   "cell_type": "code",
   "execution_count": 82,
   "id": "51f3f003",
   "metadata": {},
   "outputs": [
    {
     "data": {
      "text/plain": [
       "'1'"
      ]
     },
     "execution_count": 82,
     "metadata": {},
     "output_type": "execute_result"
    }
   ],
   "source": [
    "s"
   ]
  },
  {
   "cell_type": "code",
   "execution_count": 84,
   "id": "60ddb34a",
   "metadata": {},
   "outputs": [],
   "source": [
    "c='1980M1120'"
   ]
  },
  {
   "cell_type": "code",
   "execution_count": 89,
   "id": "3a78926e",
   "metadata": {},
   "outputs": [],
   "source": [
    "F=c[4]"
   ]
  },
  {
   "cell_type": "code",
   "execution_count": 90,
   "id": "2f5b62b1",
   "metadata": {},
   "outputs": [
    {
     "data": {
      "text/plain": [
       "'M'"
      ]
     },
     "execution_count": 90,
     "metadata": {},
     "output_type": "execute_result"
    }
   ],
   "source": [
    "F"
   ]
  },
  {
   "cell_type": "code",
   "execution_count": 102,
   "id": "f2961fa4",
   "metadata": {},
   "outputs": [
    {
     "data": {
      "text/plain": [
       "'I eat 7.000000 apples.'"
      ]
     },
     "execution_count": 102,
     "metadata": {},
     "output_type": "execute_result"
    }
   ],
   "source": [
    "number = 7\n",
    "\"I eat %f apples.\" %number"
   ]
  },
  {
   "cell_type": "code",
   "execution_count": 108,
   "id": "df55c3aa",
   "metadata": {},
   "outputs": [
    {
     "data": {
      "text/plain": [
       "' i ate 2.500000% apples. so i was sick for four days. but i was recovered in 2 weeks'"
      ]
     },
     "execution_count": 108,
     "metadata": {},
     "output_type": "execute_result"
    }
   ],
   "source": [
    "number = 2.5\n",
    "day = 'four'\n",
    "week = 2\n",
    "\" i ate %f%% apples. so i was sick for %s days. but i was recovered in %d weeks\" %(number, day, week)"
   ]
  },
  {
   "cell_type": "code",
   "execution_count": 114,
   "id": "83910d1b",
   "metadata": {},
   "outputs": [
    {
     "data": {
      "text/plain": [
       "'                  hi Jane'"
      ]
     },
     "execution_count": 114,
     "metadata": {},
     "output_type": "execute_result"
    }
   ],
   "source": [
    "\"%20s Jane\" %'hi'"
   ]
  },
  {
   "cell_type": "code",
   "execution_count": 115,
   "id": "e39ad5a6",
   "metadata": {},
   "outputs": [
    {
     "data": {
      "text/plain": [
       "'                3.12'"
      ]
     },
     "execution_count": 115,
     "metadata": {},
     "output_type": "execute_result"
    }
   ],
   "source": [
    "\"%20.2f\" %3.12345678"
   ]
  },
  {
   "cell_type": "code",
   "execution_count": 119,
   "id": "c9e7d798",
   "metadata": {},
   "outputs": [
    {
     "data": {
      "text/plain": [
       "'i eat 3.14 apples.'"
      ]
     },
     "execution_count": 119,
     "metadata": {},
     "output_type": "execute_result"
    }
   ],
   "source": [
    "\"i eat {} apples.\" .format(3.14)"
   ]
  },
  {
   "cell_type": "code",
   "execution_count": 123,
   "id": "51fac54f",
   "metadata": {},
   "outputs": [
    {
     "data": {
      "text/plain": [
       "'I eat 9 apples. so I was sick for 3 days. 3'"
      ]
     },
     "execution_count": 123,
     "metadata": {},
     "output_type": "execute_result"
    }
   ],
   "source": [
    "number = 9\n",
    "day = 3\n",
    "\"I eat {0} apples. so I was sick for {1} days. {2}\" .format(number, day, 3)"
   ]
  },
  {
   "cell_type": "code",
   "execution_count": 125,
   "id": "aba5a778",
   "metadata": {},
   "outputs": [
    {
     "data": {
      "text/plain": [
       "'hi        '"
      ]
     },
     "execution_count": 125,
     "metadata": {},
     "output_type": "execute_result"
    }
   ],
   "source": [
    "\"{0:10}\".format('hi')"
   ]
  },
  {
   "cell_type": "code",
   "execution_count": 126,
   "id": "b7419d70",
   "metadata": {},
   "outputs": [
    {
     "data": {
      "text/plain": [
       "'        hi'"
      ]
     },
     "execution_count": 126,
     "metadata": {},
     "output_type": "execute_result"
    }
   ],
   "source": [
    "\"{0:>10}\".format('hi')"
   ]
  },
  {
   "cell_type": "code",
   "execution_count": 127,
   "id": "eda2c821",
   "metadata": {},
   "outputs": [
    {
     "data": {
      "text/plain": [
       "'hi        '"
      ]
     },
     "execution_count": 127,
     "metadata": {},
     "output_type": "execute_result"
    }
   ],
   "source": [
    "\"{0:<10}\".format('hi')"
   ]
  },
  {
   "cell_type": "code",
   "execution_count": 134,
   "id": "e56f148e",
   "metadata": {},
   "outputs": [
    {
     "data": {
      "text/plain": [
       "'++++++++hi'"
      ]
     },
     "execution_count": 134,
     "metadata": {},
     "output_type": "execute_result"
    }
   ],
   "source": [
    "\"{0:+>10}\".format('hi')"
   ]
  },
  {
   "cell_type": "code",
   "execution_count": 137,
   "id": "1fd5fe06",
   "metadata": {},
   "outputs": [
    {
     "data": {
      "text/plain": [
       "'    3.1235'"
      ]
     },
     "execution_count": 137,
     "metadata": {},
     "output_type": "execute_result"
    }
   ],
   "source": [
    "\"{0:>10.4f}\".format(3.12345678)"
   ]
  },
  {
   "cell_type": "code",
   "execution_count": 139,
   "id": "81e690db",
   "metadata": {},
   "outputs": [
    {
     "data": {
      "text/plain": [
       "'{}'"
      ]
     },
     "execution_count": 139,
     "metadata": {},
     "output_type": "execute_result"
    }
   ],
   "source": [
    "\"{{}}\" .format()"
   ]
  },
  {
   "cell_type": "code",
   "execution_count": 140,
   "id": "df7fde77",
   "metadata": {},
   "outputs": [
    {
     "data": {
      "text/plain": [
       "'my name is hongik. i am 30 years old.'"
      ]
     },
     "execution_count": 140,
     "metadata": {},
     "output_type": "execute_result"
    }
   ],
   "source": [
    "name = 'hongik'\n",
    "age = 30\n",
    "f'my name is {name}. i am {age} years old.'"
   ]
  },
  {
   "cell_type": "code",
   "execution_count": 142,
   "id": "e58a1fb4",
   "metadata": {},
   "outputs": [
    {
     "data": {
      "text/plain": [
       "'hi        '"
      ]
     },
     "execution_count": 142,
     "metadata": {},
     "output_type": "execute_result"
    }
   ],
   "source": [
    "f'{\"hi\":<10}'"
   ]
  },
  {
   "cell_type": "code",
   "execution_count": 143,
   "id": "0fd2cc53",
   "metadata": {},
   "outputs": [
    {
     "data": {
      "text/plain": [
       "'    hi    '"
      ]
     },
     "execution_count": 143,
     "metadata": {},
     "output_type": "execute_result"
    }
   ],
   "source": [
    "f'{\"hi\":^10}'"
   ]
  },
  {
   "cell_type": "code",
   "execution_count": 144,
   "id": "cedca16e",
   "metadata": {},
   "outputs": [
    {
     "data": {
      "text/plain": [
       "'****hi****'"
      ]
     },
     "execution_count": 144,
     "metadata": {},
     "output_type": "execute_result"
    }
   ],
   "source": [
    "f'{\"hi\":*^10}'"
   ]
  },
  {
   "cell_type": "code",
   "execution_count": 145,
   "id": "97712676",
   "metadata": {},
   "outputs": [
    {
     "data": {
      "text/plain": [
       "'**3.123***'"
      ]
     },
     "execution_count": 145,
     "metadata": {},
     "output_type": "execute_result"
    }
   ],
   "source": [
    "f'{3.12345678:*^10.3f}'"
   ]
  },
  {
   "cell_type": "code",
   "execution_count": 147,
   "id": "6f38ede6",
   "metadata": {},
   "outputs": [
    {
     "data": {
      "text/plain": [
       "'{ and }'"
      ]
     },
     "execution_count": 147,
     "metadata": {},
     "output_type": "execute_result"
    }
   ],
   "source": [
    "f'{{ and }}'"
   ]
  },
  {
   "cell_type": "code",
   "execution_count": 148,
   "id": "ce745633",
   "metadata": {},
   "outputs": [],
   "source": [
    "a = 'hobby'"
   ]
  },
  {
   "cell_type": "code",
   "execution_count": 149,
   "id": "5de0cf5f",
   "metadata": {},
   "outputs": [
    {
     "data": {
      "text/plain": [
       "'hobby'"
      ]
     },
     "execution_count": 149,
     "metadata": {},
     "output_type": "execute_result"
    }
   ],
   "source": [
    "a"
   ]
  },
  {
   "cell_type": "code",
   "execution_count": 153,
   "id": "76cad748",
   "metadata": {},
   "outputs": [
    {
     "data": {
      "text/plain": [
       "0"
      ]
     },
     "execution_count": 153,
     "metadata": {},
     "output_type": "execute_result"
    }
   ],
   "source": [
    "a.count('smartphone')"
   ]
  },
  {
   "cell_type": "code",
   "execution_count": 154,
   "id": "06eac414",
   "metadata": {},
   "outputs": [],
   "source": [
    "a = \"python is the best choice.\""
   ]
  },
  {
   "cell_type": "code",
   "execution_count": 157,
   "id": "16dd5ec4",
   "metadata": {},
   "outputs": [
    {
     "data": {
      "text/plain": [
       "-1"
      ]
     },
     "execution_count": 157,
     "metadata": {},
     "output_type": "execute_result"
    }
   ],
   "source": [
    "a.find('k')"
   ]
  },
  {
   "cell_type": "code",
   "execution_count": 159,
   "id": "fbd69e3d",
   "metadata": {},
   "outputs": [
    {
     "data": {
      "text/plain": [
       "14"
      ]
     },
     "execution_count": 159,
     "metadata": {},
     "output_type": "execute_result"
    }
   ],
   "source": [
    "a.index('b')"
   ]
  },
  {
   "cell_type": "code",
   "execution_count": 160,
   "id": "4335f5a9",
   "metadata": {},
   "outputs": [
    {
     "data": {
      "text/plain": [
       "'a,b,c,d'"
      ]
     },
     "execution_count": 160,
     "metadata": {},
     "output_type": "execute_result"
    }
   ],
   "source": [
    "','.join('abcd')"
   ]
  },
  {
   "cell_type": "code",
   "execution_count": 161,
   "id": "e071ffd7",
   "metadata": {},
   "outputs": [
    {
     "data": {
      "text/plain": [
       "'a*b*c*d'"
      ]
     },
     "execution_count": 161,
     "metadata": {},
     "output_type": "execute_result"
    }
   ],
   "source": [
    "'*'.join('abcd')"
   ]
  },
  {
   "cell_type": "code",
   "execution_count": 162,
   "id": "fcd05b3e",
   "metadata": {},
   "outputs": [
    {
     "data": {
      "text/plain": [
       "'python is the best choice.'"
      ]
     },
     "execution_count": 162,
     "metadata": {},
     "output_type": "execute_result"
    }
   ],
   "source": [
    "a"
   ]
  },
  {
   "cell_type": "code",
   "execution_count": 165,
   "id": "c7f078c5",
   "metadata": {},
   "outputs": [],
   "source": [
    "b = a.upper()"
   ]
  },
  {
   "cell_type": "code",
   "execution_count": 166,
   "id": "8d5a5062",
   "metadata": {},
   "outputs": [
    {
     "data": {
      "text/plain": [
       "'PYTHON IS THE BEST CHOICE.'"
      ]
     },
     "execution_count": 166,
     "metadata": {},
     "output_type": "execute_result"
    }
   ],
   "source": [
    "b"
   ]
  },
  {
   "cell_type": "code",
   "execution_count": 167,
   "id": "9de8b358",
   "metadata": {},
   "outputs": [
    {
     "data": {
      "text/plain": [
       "'python is the best choice.'"
      ]
     },
     "execution_count": 167,
     "metadata": {},
     "output_type": "execute_result"
    }
   ],
   "source": [
    "a"
   ]
  },
  {
   "cell_type": "code",
   "execution_count": 169,
   "id": "124b96c8",
   "metadata": {},
   "outputs": [
    {
     "data": {
      "text/plain": [
       "'python is the best choice.'"
      ]
     },
     "execution_count": 169,
     "metadata": {},
     "output_type": "execute_result"
    }
   ],
   "source": [
    "b.lower()"
   ]
  },
  {
   "cell_type": "code",
   "execution_count": 170,
   "id": "b4d7cb2b",
   "metadata": {},
   "outputs": [],
   "source": [
    "a = \"   hi   \""
   ]
  },
  {
   "cell_type": "code",
   "execution_count": 171,
   "id": "46999205",
   "metadata": {},
   "outputs": [
    {
     "data": {
      "text/plain": [
       "'   hi   '"
      ]
     },
     "execution_count": 171,
     "metadata": {},
     "output_type": "execute_result"
    }
   ],
   "source": [
    "a"
   ]
  },
  {
   "cell_type": "code",
   "execution_count": 172,
   "id": "f4b73c73",
   "metadata": {},
   "outputs": [
    {
     "data": {
      "text/plain": [
       "'hi   '"
      ]
     },
     "execution_count": 172,
     "metadata": {},
     "output_type": "execute_result"
    }
   ],
   "source": [
    "a.lstrip()"
   ]
  },
  {
   "cell_type": "code",
   "execution_count": 173,
   "id": "d35c160c",
   "metadata": {},
   "outputs": [
    {
     "data": {
      "text/plain": [
       "'   hi'"
      ]
     },
     "execution_count": 173,
     "metadata": {},
     "output_type": "execute_result"
    }
   ],
   "source": [
    "a.rstrip()"
   ]
  },
  {
   "cell_type": "code",
   "execution_count": 174,
   "id": "2b64769f",
   "metadata": {},
   "outputs": [
    {
     "data": {
      "text/plain": [
       "'   hi   '"
      ]
     },
     "execution_count": 174,
     "metadata": {},
     "output_type": "execute_result"
    }
   ],
   "source": [
    "a"
   ]
  },
  {
   "cell_type": "code",
   "execution_count": 175,
   "id": "a935222e",
   "metadata": {},
   "outputs": [
    {
     "data": {
      "text/plain": [
       "'hi'"
      ]
     },
     "execution_count": 175,
     "metadata": {},
     "output_type": "execute_result"
    }
   ],
   "source": [
    "a.strip()"
   ]
  },
  {
   "cell_type": "code",
   "execution_count": 177,
   "id": "7bcf2b0e",
   "metadata": {},
   "outputs": [],
   "source": [
    "a = 'life is short.'"
   ]
  },
  {
   "cell_type": "code",
   "execution_count": 178,
   "id": "95efc04b",
   "metadata": {},
   "outputs": [
    {
     "data": {
      "text/plain": [
       "'your leg is short.'"
      ]
     },
     "execution_count": 178,
     "metadata": {},
     "output_type": "execute_result"
    }
   ],
   "source": [
    "a.replace(\"life\", \"your leg\")"
   ]
  },
  {
   "cell_type": "code",
   "execution_count": null,
   "id": "e38a0f01",
   "metadata": {},
   "outputs": [],
   "source": []
  },
  {
   "cell_type": "code",
   "execution_count": 179,
   "id": "acdfb115",
   "metadata": {},
   "outputs": [
    {
     "data": {
      "text/plain": [
       "'life is short.'"
      ]
     },
     "execution_count": 179,
     "metadata": {},
     "output_type": "execute_result"
    }
   ],
   "source": [
    "a"
   ]
  },
  {
   "cell_type": "code",
   "execution_count": 180,
   "id": "c270018f",
   "metadata": {},
   "outputs": [
    {
     "data": {
      "text/plain": [
       "['life', 'is', 'short.']"
      ]
     },
     "execution_count": 180,
     "metadata": {},
     "output_type": "execute_result"
    }
   ],
   "source": [
    "a.split()"
   ]
  },
  {
   "cell_type": "code",
   "execution_count": 181,
   "id": "35ed2a28",
   "metadata": {},
   "outputs": [],
   "source": [
    "b = 'a:b:c:d'"
   ]
  },
  {
   "cell_type": "code",
   "execution_count": 182,
   "id": "f3a3038a",
   "metadata": {},
   "outputs": [
    {
     "data": {
      "text/plain": [
       "['a', 'b', 'c', 'd']"
      ]
     },
     "execution_count": 182,
     "metadata": {},
     "output_type": "execute_result"
    }
   ],
   "source": [
    "b.split(':')"
   ]
  },
  {
   "cell_type": "code",
   "execution_count": null,
   "id": "d8bf20b0",
   "metadata": {},
   "outputs": [],
   "source": []
  },
  {
   "cell_type": "code",
   "execution_count": null,
   "id": "c0f01c67",
   "metadata": {},
   "outputs": [],
   "source": []
  }
 ],
 "metadata": {
  "kernelspec": {
   "display_name": "Python 3",
   "language": "python",
   "name": "python3"
  },
  "language_info": {
   "codemirror_mode": {
    "name": "ipython",
    "version": 3
   },
   "file_extension": ".py",
   "mimetype": "text/x-python",
   "name": "python",
   "nbconvert_exporter": "python",
   "pygments_lexer": "ipython3",
   "version": "3.8.8"
  }
 },
 "nbformat": 4,
 "nbformat_minor": 5
}
